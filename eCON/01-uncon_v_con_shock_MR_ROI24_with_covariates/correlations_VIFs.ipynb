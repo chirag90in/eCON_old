{
 "cells": [
  {
   "cell_type": "code",
   "execution_count": 2,
   "metadata": {},
   "outputs": [],
   "source": [
    "import pandas as pf\n",
    "import numpy as np\n",
    "import seaborn as sns\n",
    "import matplotlib.pyplot as plt\n",
    "\n",
    "%matplotlib inline"
   ]
  },
  {
   "cell_type": "code",
   "execution_count": 4,
   "metadata": {},
   "outputs": [
    {
     "data": {
      "text/html": [
       "<div>\n",
       "<style scoped>\n",
       "    .dataframe tbody tr th:only-of-type {\n",
       "        vertical-align: middle;\n",
       "    }\n",
       "\n",
       "    .dataframe tbody tr th {\n",
       "        vertical-align: top;\n",
       "    }\n",
       "\n",
       "    .dataframe thead th {\n",
       "        text-align: right;\n",
       "    }\n",
       "</style>\n",
       "<table border=\"1\" class=\"dataframe\">\n",
       "  <thead>\n",
       "    <tr style=\"text-align: right;\">\n",
       "      <th></th>\n",
       "      <th>Subj</th>\n",
       "      <th>ROI</th>\n",
       "      <th>Y</th>\n",
       "      <th>TRAITmean</th>\n",
       "      <th>TRAITdiff</th>\n",
       "      <th>STATEmean</th>\n",
       "      <th>STATEdiff</th>\n",
       "      <th>BPdiff_stdz</th>\n",
       "    </tr>\n",
       "  </thead>\n",
       "  <tbody>\n",
       "    <tr>\n",
       "      <th>0</th>\n",
       "      <td>P00</td>\n",
       "      <td>vmPFC</td>\n",
       "      <td>0.0915</td>\n",
       "      <td>-1.003</td>\n",
       "      <td>-0.0406</td>\n",
       "      <td>-1.2307</td>\n",
       "      <td>-0.1812</td>\n",
       "      <td>-0.8664</td>\n",
       "    </tr>\n",
       "    <tr>\n",
       "      <th>1</th>\n",
       "      <td>P00</td>\n",
       "      <td>PCC1</td>\n",
       "      <td>0.5290</td>\n",
       "      <td>-1.003</td>\n",
       "      <td>-0.0406</td>\n",
       "      <td>-1.2307</td>\n",
       "      <td>-0.1812</td>\n",
       "      <td>-0.8664</td>\n",
       "    </tr>\n",
       "    <tr>\n",
       "      <th>2</th>\n",
       "      <td>P00</td>\n",
       "      <td>PCC2</td>\n",
       "      <td>0.3904</td>\n",
       "      <td>-1.003</td>\n",
       "      <td>-0.0406</td>\n",
       "      <td>-1.2307</td>\n",
       "      <td>-0.1812</td>\n",
       "      <td>-0.8664</td>\n",
       "    </tr>\n",
       "    <tr>\n",
       "      <th>3</th>\n",
       "      <td>P00</td>\n",
       "      <td>rPAG1</td>\n",
       "      <td>0.6907</td>\n",
       "      <td>-1.003</td>\n",
       "      <td>-0.0406</td>\n",
       "      <td>-1.2307</td>\n",
       "      <td>-0.1812</td>\n",
       "      <td>-0.8664</td>\n",
       "    </tr>\n",
       "    <tr>\n",
       "      <th>4</th>\n",
       "      <td>P00</td>\n",
       "      <td>lPAG1</td>\n",
       "      <td>-0.0709</td>\n",
       "      <td>-1.003</td>\n",
       "      <td>-0.0406</td>\n",
       "      <td>-1.2307</td>\n",
       "      <td>-0.1812</td>\n",
       "      <td>-0.8664</td>\n",
       "    </tr>\n",
       "  </tbody>\n",
       "</table>\n",
       "</div>"
      ],
      "text/plain": [
       "  Subj    ROI       Y  TRAITmean  TRAITdiff  STATEmean  STATEdiff  BPdiff_stdz\n",
       "0  P00  vmPFC  0.0915     -1.003    -0.0406    -1.2307    -0.1812      -0.8664\n",
       "1  P00   PCC1  0.5290     -1.003    -0.0406    -1.2307    -0.1812      -0.8664\n",
       "2  P00   PCC2  0.3904     -1.003    -0.0406    -1.2307    -0.1812      -0.8664\n",
       "3  P00  rPAG1  0.6907     -1.003    -0.0406    -1.2307    -0.1812      -0.8664\n",
       "4  P00  lPAG1 -0.0709     -1.003    -0.0406    -1.2307    -0.1812      -0.8664"
      ]
     },
     "execution_count": 4,
     "metadata": {},
     "output_type": "execute_result"
    }
   ],
   "source": [
    "df = pd.read_csv('uncon_v_con_shock_MR_ROI24_with_covariates.txt',sep='\\t')\n",
    "df.head()"
   ]
  },
  {
   "cell_type": "code",
   "execution_count": 6,
   "metadata": {},
   "outputs": [
    {
     "data": {
      "text/html": [
       "<div>\n",
       "<style scoped>\n",
       "    .dataframe tbody tr th:only-of-type {\n",
       "        vertical-align: middle;\n",
       "    }\n",
       "\n",
       "    .dataframe tbody tr th {\n",
       "        vertical-align: top;\n",
       "    }\n",
       "\n",
       "    .dataframe thead th {\n",
       "        text-align: right;\n",
       "    }\n",
       "</style>\n",
       "<table border=\"1\" class=\"dataframe\">\n",
       "  <thead>\n",
       "    <tr style=\"text-align: right;\">\n",
       "      <th></th>\n",
       "      <th>Subj</th>\n",
       "      <th>TRAITmean</th>\n",
       "      <th>TRAITdiff</th>\n",
       "      <th>STATEmean</th>\n",
       "      <th>STATEdiff</th>\n",
       "      <th>BPdiff_stdz</th>\n",
       "    </tr>\n",
       "  </thead>\n",
       "  <tbody>\n",
       "    <tr>\n",
       "      <th>0</th>\n",
       "      <td>P00</td>\n",
       "      <td>-1.0030</td>\n",
       "      <td>-0.0406</td>\n",
       "      <td>-1.2307</td>\n",
       "      <td>-0.1812</td>\n",
       "      <td>-0.8664</td>\n",
       "    </tr>\n",
       "    <tr>\n",
       "      <th>1</th>\n",
       "      <td>P01</td>\n",
       "      <td>-0.4359</td>\n",
       "      <td>3.1472</td>\n",
       "      <td>-0.4379</td>\n",
       "      <td>0.4163</td>\n",
       "      <td>0.3736</td>\n",
       "    </tr>\n",
       "    <tr>\n",
       "      <th>2</th>\n",
       "      <td>P02</td>\n",
       "      <td>0.1942</td>\n",
       "      <td>0.3136</td>\n",
       "      <td>-0.5172</td>\n",
       "      <td>0.3167</td>\n",
       "      <td>-0.3028</td>\n",
       "    </tr>\n",
       "    <tr>\n",
       "      <th>3</th>\n",
       "      <td>P03</td>\n",
       "      <td>-1.5702</td>\n",
       "      <td>1.0220</td>\n",
       "      <td>-1.6270</td>\n",
       "      <td>-0.0816</td>\n",
       "      <td>0.3360</td>\n",
       "    </tr>\n",
       "    <tr>\n",
       "      <th>4</th>\n",
       "      <td>P04</td>\n",
       "      <td>-0.2469</td>\n",
       "      <td>-0.0406</td>\n",
       "      <td>-0.2794</td>\n",
       "      <td>0.6155</td>\n",
       "      <td>-0.7913</td>\n",
       "    </tr>\n",
       "  </tbody>\n",
       "</table>\n",
       "</div>"
      ],
      "text/plain": [
       "  Subj  TRAITmean  TRAITdiff  STATEmean  STATEdiff  BPdiff_stdz\n",
       "0  P00    -1.0030    -0.0406    -1.2307    -0.1812      -0.8664\n",
       "1  P01    -0.4359     3.1472    -0.4379     0.4163       0.3736\n",
       "2  P02     0.1942     0.3136    -0.5172     0.3167      -0.3028\n",
       "3  P03    -1.5702     1.0220    -1.6270    -0.0816       0.3360\n",
       "4  P04    -0.2469    -0.0406    -0.2794     0.6155      -0.7913"
      ]
     },
     "execution_count": 6,
     "metadata": {},
     "output_type": "execute_result"
    }
   ],
   "source": [
    "df.drop(['Y','ROI'],axis=1,inplace=True)\n",
    "df = df.groupby('Subj').mean().reset_index()\n",
    "df.head()"
   ]
  },
  {
   "cell_type": "markdown",
   "metadata": {},
   "source": [
    "## Pairwise correlation values for regs of interest"
   ]
  },
  {
   "cell_type": "code",
   "execution_count": 11,
   "metadata": {},
   "outputs": [
    {
     "data": {
      "text/plain": [
       "<matplotlib.axes._subplots.AxesSubplot at 0x7f25dd3b57b8>"
      ]
     },
     "execution_count": 11,
     "metadata": {},
     "output_type": "execute_result"
    },
    {
     "data": {
      "image/png": "[encoded data removed]",
      "text/plain": [
       "<Figure size 432x288 with 2 Axes>"
      ]
     },
     "metadata": {
      "needs_background": "light"
     },
     "output_type": "display_data"
    }
   ],
   "source": [
    "sns.heatmap(df.corr(method=\"spearman\"),vmin=-1,vmax=1,cmap='jet',annot=True,annot_kws={'size':12})"
   ]
  },
  {
   "cell_type": "code",
   "execution_count": 12,
   "metadata": {},
   "outputs": [
    {
     "data": {
      "text/html": [
       "<div>\n",
       "<style scoped>\n",
       "    .dataframe tbody tr th:only-of-type {\n",
       "        vertical-align: middle;\n",
       "    }\n",
       "\n",
       "    .dataframe tbody tr th {\n",
       "        vertical-align: top;\n",
       "    }\n",
       "\n",
       "    .dataframe thead th {\n",
       "        text-align: right;\n",
       "    }\n",
       "</style>\n",
       "<table border=\"1\" class=\"dataframe\">\n",
       "  <thead>\n",
       "    <tr style=\"text-align: right;\">\n",
       "      <th></th>\n",
       "      <th>Feature</th>\n",
       "      <th>VIF</th>\n",
       "    </tr>\n",
       "  </thead>\n",
       "  <tbody>\n",
       "    <tr>\n",
       "      <th>1</th>\n",
       "      <td>TRAITmean</td>\n",
       "      <td>1.730677</td>\n",
       "    </tr>\n",
       "    <tr>\n",
       "      <th>2</th>\n",
       "      <td>TRAITdiff</td>\n",
       "      <td>1.107800</td>\n",
       "    </tr>\n",
       "    <tr>\n",
       "      <th>3</th>\n",
       "      <td>STATEmean</td>\n",
       "      <td>1.846416</td>\n",
       "    </tr>\n",
       "    <tr>\n",
       "      <th>4</th>\n",
       "      <td>STATEdiff</td>\n",
       "      <td>1.062236</td>\n",
       "    </tr>\n",
       "    <tr>\n",
       "      <th>5</th>\n",
       "      <td>BPdiff_stdz</td>\n",
       "      <td>1.124439</td>\n",
       "    </tr>\n",
       "  </tbody>\n",
       "</table>\n",
       "</div>"
      ],
      "text/plain": [
       "       Feature       VIF\n",
       "1    TRAITmean  1.730677\n",
       "2    TRAITdiff  1.107800\n",
       "3    STATEmean  1.846416\n",
       "4    STATEdiff  1.062236\n",
       "5  BPdiff_stdz  1.124439"
      ]
     },
     "execution_count": 12,
     "metadata": {},
     "output_type": "execute_result"
    }
   ],
   "source": [
    "## VIFs\n",
    "from statsmodels.stats.outliers_influence import variance_inflation_factor\n",
    "\n",
    "df_for_VIF = df.drop('Subj',axis=1).copy()\n",
    "df_for_VIF = sm.add_constant(df_for_VIF)\n",
    "VIF_df = pd.DataFrame()\n",
    "VIF_df['Feature'] = df_for_VIF.columns\n",
    "VIF_df['VIF'] = [variance_inflation_factor(df_for_VIF.values, i) for i in range(df_for_VIF.shape[1])]\n",
    "VIF_df[VIF_df['Feature']!='const']"
   ]
  },
  {
   "cell_type": "markdown",
   "metadata": {},
   "source": [
    "### **First level model**\n",
    "This a general form\n",
    "Let $y_{i}$ be raw data from one voxel at timepoint $i$, where $i$ = 1,2,3,...m (m = total number of timepoints).  \n",
    "$$y_{i} = \\beta_{0} + \\beta_{1}x_{1} + \\beta_{2}x_{2}+....+\\beta_{n}x_{n} + \\epsilon$$ \n",
    "Where $n$ = 1,2,3,...,n (n = total number of regressors)  \n",
    "\n",
    "A subest of $\\beta$'s are for the regressors of interest, and remaining are for the nuisance regressors like motions and difts.  \n",
    "\n",
    "### **Second level model**\n",
    "Specific to our study.  \n",
    "\n",
    "$Y_{j}$ be the contrast of shock estimate (uncon-con) in one voxel of pair $j$, where $j$ = 1, 2 , 3..., 61\n",
    "\n",
    "$$Y_{j} = \\beta_{0} + \\beta_{SM}SM + \\beta_{TM}TM + \\beta_{SD}SD + \\beta_{TD}TD + \\beta_{BPD}BDP + \\epsilon$$\n",
    "\n",
    "This will give us a map for each of the estimated $\\beta$.  \n",
    "Here, maps for $\\beta_{0}$, $\\beta_{SM}$, and $\\beta_{TM}$ are of interest."
   ]
  },
  {
   "cell_type": "code",
   "execution_count": null,
   "metadata": {},
   "outputs": [],
   "source": []
  }
 ],
 "metadata": {
  "kernelspec": {
   "display_name": "Python 3",
   "language": "python",
   "name": "python3"
  },
  "language_info": {
   "codemirror_mode": {
    "name": "ipython",
    "version": 3
   },
   "file_extension": ".py",
   "mimetype": "text/x-python",
   "name": "python",
   "nbconvert_exporter": "python",
   "pygments_lexer": "ipython3",
   "version": "3.7.3"
  }
 },
 "nbformat": 4,
 "nbformat_minor": 4
}
