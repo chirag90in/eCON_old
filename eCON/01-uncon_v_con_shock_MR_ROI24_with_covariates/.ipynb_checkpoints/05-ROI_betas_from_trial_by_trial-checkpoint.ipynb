{
 "cells": [
  {
   "cell_type": "code",
   "execution_count": 1,
   "metadata": {},
   "outputs": [
    {
     "data": {
      "text/html": [
       "<script>\n",
       "code_show=true; \n",
       "function code_toggle() {\n",
       " if (code_show){\n",
       " $('div.input').hide();\n",
       " } else {\n",
       " $('div.input').show();\n",
       " }\n",
       " code_show = !code_show\n",
       "} \n",
       "$( document ).ready(code_toggle);\n",
       "</script>\n",
       "\n",
       "<form action=\"javascript:code_toggle()\"><input type=\"submit\" value=\"Click here to toggle on/off the raw code.\"></form>"
      ],
      "text/plain": [
       "<IPython.core.display.HTML object>"
      ]
     },
     "execution_count": 1,
     "metadata": {},
     "output_type": "execute_result"
    }
   ],
   "source": [
    "from IPython.display import HTML\n",
    "\n",
    "HTML('''<script>\n",
    "code_show=true; \n",
    "function code_toggle() {\n",
    " if (code_show){\n",
    " $('div.input').hide();\n",
    " } else {\n",
    " $('div.input').show();\n",
    " }\n",
    " code_show = !code_show\n",
    "} \n",
    "$( document ).ready(code_toggle);\n",
    "</script>\n",
    "\n",
    "<form action=\"javascript:code_toggle()\"><input type=\"submit\" value=\"Click here to toggle on/off the raw code.\"></form>''')\n"
   ]
  },
  {
   "cell_type": "markdown",
   "metadata": {},
   "source": [
    "# **Trial-by-trial Analysis of ROI response for shock**"
   ]
  },
  {
   "cell_type": "code",
   "execution_count": 2,
   "metadata": {},
   "outputs": [],
   "source": [
    "import pandas as pd\n",
    "import numpy as np\n",
    "import os\n",
    "from os.path import join, isdir, dirname, basename, exists\n",
    "from os import mkdir\n",
    "import glob as glob\n",
    "import matplotlib.pyplot as plt\n",
    "import seaborn as sns; sns.set(context=\"paper\",style=\"white\",font_scale=1.5)\n",
    "\n",
    "cmap = plt.get_cmap('Set1')"
   ]
  },
  {
   "cell_type": "code",
   "execution_count": 3,
   "metadata": {},
   "outputs": [],
   "source": [
    "eCON = '/data/bswift-1/Pessoa_Lab/eCON'\n",
    "roi_betapath = join(eCON,'dataset/results_ShockUncensored/{subj}/{group}lable/splitted_regs/ROI_analysis/noProx/buttonPress/shock_IM/{subj}_betas_3dLSS.1D')\n",
    "yoked = pd.read_excel(join(eCON,'onsetdir/CON_yoked_table.xlsx'))\n",
    "yoked = yoked.query('use == 1')"
   ]
  },
  {
   "cell_type": "code",
   "execution_count": 4,
   "metadata": {},
   "outputs": [],
   "source": [
    "rois = 'rBNST lBNST rdAI rvAI vmPFC PCC1 rPAG lPAG PCC2 ldAI\\\n",
    "        lvAI rPI lPI rCa lCa rPa lPa rVS lVS Amygdala_BLBM_La_L\\\n",
    "        Amygdala_BLBM_La_R Amygdala_CeME_L Amygdala_CeME_R ACC'.split()"
   ]
  },
  {
   "cell_type": "code",
   "execution_count": 5,
   "metadata": {},
   "outputs": [
    {
     "data": {
      "text/plain": [
       "24"
      ]
     },
     "execution_count": 5,
     "metadata": {},
     "output_type": "execute_result"
    },
    {
     "data": {
      "image/png": "[encoded data removed]",
      "text/plain": [
       "<Figure size 720x72 with 1 Axes>"
      ]
     },
     "metadata": {
      "needs_background": "light"
     },
     "output_type": "display_data"
    }
   ],
   "source": [
    "pal = sns.color_palette()\n",
    "sns.palplot(pal)\n",
    "len(rois)"
   ]
  },
  {
   "cell_type": "code",
   "execution_count": 6,
   "metadata": {},
   "outputs": [],
   "source": [
    "df = pd.DataFrame()\n",
    "for i, row in yoked.iterrows():\n",
    "    for kind in ['control','uncontrol']:\n",
    "        roi_beta = np.loadtxt(roi_betapath.format(subj=row[kind],group=kind)).T\n",
    "        tmp_df = pd.DataFrame(roi_beta,columns=rois)\n",
    "        tmp_df['SubjID'] = row[kind]\n",
    "        tmp_df['Group'] = kind\n",
    "        tmp_df['Pair'] = 'P{:02d}'.format(i)\n",
    "        df = pd.concat([df,tmp_df],axis =0)"
   ]
  },
  {
   "cell_type": "code",
   "execution_count": 7,
   "metadata": {},
   "outputs": [
    {
     "data": {
      "text/html": [
       "<div>\n",
       "<style scoped>\n",
       "    .dataframe tbody tr th:only-of-type {\n",
       "        vertical-align: middle;\n",
       "    }\n",
       "\n",
       "    .dataframe tbody tr th {\n",
       "        vertical-align: top;\n",
       "    }\n",
       "\n",
       "    .dataframe thead th {\n",
       "        text-align: right;\n",
       "    }\n",
       "</style>\n",
       "<table border=\"1\" class=\"dataframe\">\n",
       "  <thead>\n",
       "    <tr style=\"text-align: right;\">\n",
       "      <th></th>\n",
       "      <th>rBNST</th>\n",
       "      <th>lBNST</th>\n",
       "      <th>rdAI</th>\n",
       "      <th>rvAI</th>\n",
       "      <th>vmPFC</th>\n",
       "      <th>PCC1</th>\n",
       "      <th>rPAG</th>\n",
       "      <th>lPAG</th>\n",
       "      <th>PCC2</th>\n",
       "      <th>ldAI</th>\n",
       "      <th>...</th>\n",
       "      <th>rVS</th>\n",
       "      <th>lVS</th>\n",
       "      <th>Amygdala_BLBM_La_L</th>\n",
       "      <th>Amygdala_BLBM_La_R</th>\n",
       "      <th>Amygdala_CeME_L</th>\n",
       "      <th>Amygdala_CeME_R</th>\n",
       "      <th>ACC</th>\n",
       "      <th>SubjID</th>\n",
       "      <th>Group</th>\n",
       "      <th>Pair</th>\n",
       "    </tr>\n",
       "  </thead>\n",
       "  <tbody>\n",
       "    <tr>\n",
       "      <th>0</th>\n",
       "      <td>6.589840</td>\n",
       "      <td>5.450640</td>\n",
       "      <td>0.859964</td>\n",
       "      <td>1.173100</td>\n",
       "      <td>0.950911</td>\n",
       "      <td>-1.992570</td>\n",
       "      <td>-1.650180</td>\n",
       "      <td>1.174840</td>\n",
       "      <td>1.710520</td>\n",
       "      <td>1.883870</td>\n",
       "      <td>...</td>\n",
       "      <td>2.152610</td>\n",
       "      <td>3.950940</td>\n",
       "      <td>1.245150</td>\n",
       "      <td>2.440810</td>\n",
       "      <td>-0.084161</td>\n",
       "      <td>1.986780</td>\n",
       "      <td>2.118270</td>\n",
       "      <td>CON001</td>\n",
       "      <td>control</td>\n",
       "      <td>P00</td>\n",
       "    </tr>\n",
       "    <tr>\n",
       "      <th>1</th>\n",
       "      <td>1.129010</td>\n",
       "      <td>4.779140</td>\n",
       "      <td>2.827420</td>\n",
       "      <td>2.639980</td>\n",
       "      <td>-0.502012</td>\n",
       "      <td>-1.253160</td>\n",
       "      <td>2.153970</td>\n",
       "      <td>2.779280</td>\n",
       "      <td>-3.172620</td>\n",
       "      <td>2.462330</td>\n",
       "      <td>...</td>\n",
       "      <td>0.742078</td>\n",
       "      <td>1.051000</td>\n",
       "      <td>-2.417400</td>\n",
       "      <td>-0.458851</td>\n",
       "      <td>0.470622</td>\n",
       "      <td>-0.052972</td>\n",
       "      <td>1.737980</td>\n",
       "      <td>CON001</td>\n",
       "      <td>control</td>\n",
       "      <td>P00</td>\n",
       "    </tr>\n",
       "    <tr>\n",
       "      <th>2</th>\n",
       "      <td>1.173450</td>\n",
       "      <td>0.106286</td>\n",
       "      <td>0.907479</td>\n",
       "      <td>0.651529</td>\n",
       "      <td>-0.210562</td>\n",
       "      <td>-1.492720</td>\n",
       "      <td>0.770148</td>\n",
       "      <td>0.657067</td>\n",
       "      <td>-2.423410</td>\n",
       "      <td>0.441946</td>\n",
       "      <td>...</td>\n",
       "      <td>-0.109591</td>\n",
       "      <td>0.129642</td>\n",
       "      <td>0.169031</td>\n",
       "      <td>-0.127002</td>\n",
       "      <td>0.126991</td>\n",
       "      <td>0.742982</td>\n",
       "      <td>0.209189</td>\n",
       "      <td>CON001</td>\n",
       "      <td>control</td>\n",
       "      <td>P00</td>\n",
       "    </tr>\n",
       "    <tr>\n",
       "      <th>3</th>\n",
       "      <td>3.722750</td>\n",
       "      <td>2.965780</td>\n",
       "      <td>1.437270</td>\n",
       "      <td>1.112810</td>\n",
       "      <td>-0.086118</td>\n",
       "      <td>-0.811095</td>\n",
       "      <td>0.087835</td>\n",
       "      <td>1.339240</td>\n",
       "      <td>-0.072378</td>\n",
       "      <td>1.171990</td>\n",
       "      <td>...</td>\n",
       "      <td>0.705705</td>\n",
       "      <td>1.034080</td>\n",
       "      <td>0.428724</td>\n",
       "      <td>0.323117</td>\n",
       "      <td>1.356390</td>\n",
       "      <td>-0.355626</td>\n",
       "      <td>1.094320</td>\n",
       "      <td>CON001</td>\n",
       "      <td>control</td>\n",
       "      <td>P00</td>\n",
       "    </tr>\n",
       "    <tr>\n",
       "      <th>4</th>\n",
       "      <td>0.798216</td>\n",
       "      <td>5.609730</td>\n",
       "      <td>1.201750</td>\n",
       "      <td>1.923970</td>\n",
       "      <td>1.429860</td>\n",
       "      <td>0.254730</td>\n",
       "      <td>-1.561820</td>\n",
       "      <td>1.068860</td>\n",
       "      <td>1.878910</td>\n",
       "      <td>2.690160</td>\n",
       "      <td>...</td>\n",
       "      <td>2.119220</td>\n",
       "      <td>2.980730</td>\n",
       "      <td>-1.564560</td>\n",
       "      <td>1.881410</td>\n",
       "      <td>-0.930500</td>\n",
       "      <td>1.196570</td>\n",
       "      <td>2.472160</td>\n",
       "      <td>CON001</td>\n",
       "      <td>control</td>\n",
       "      <td>P00</td>\n",
       "    </tr>\n",
       "  </tbody>\n",
       "</table>\n",
       "<p>5 rows × 27 columns</p>\n",
       "</div>"
      ],
      "text/plain": [
       "      rBNST     lBNST      rdAI      rvAI     vmPFC      PCC1      rPAG  \\\n",
       "0  6.589840  5.450640  0.859964  1.173100  0.950911 -1.992570 -1.650180   \n",
       "1  1.129010  4.779140  2.827420  2.639980 -0.502012 -1.253160  2.153970   \n",
       "2  1.173450  0.106286  0.907479  0.651529 -0.210562 -1.492720  0.770148   \n",
       "3  3.722750  2.965780  1.437270  1.112810 -0.086118 -0.811095  0.087835   \n",
       "4  0.798216  5.609730  1.201750  1.923970  1.429860  0.254730 -1.561820   \n",
       "\n",
       "       lPAG      PCC2      ldAI  ...       rVS       lVS  Amygdala_BLBM_La_L  \\\n",
       "0  1.174840  1.710520  1.883870  ...  2.152610  3.950940            1.245150   \n",
       "1  2.779280 -3.172620  2.462330  ...  0.742078  1.051000           -2.417400   \n",
       "2  0.657067 -2.423410  0.441946  ... -0.109591  0.129642            0.169031   \n",
       "3  1.339240 -0.072378  1.171990  ...  0.705705  1.034080            0.428724   \n",
       "4  1.068860  1.878910  2.690160  ...  2.119220  2.980730           -1.564560   \n",
       "\n",
       "   Amygdala_BLBM_La_R  Amygdala_CeME_L  Amygdala_CeME_R       ACC  SubjID  \\\n",
       "0            2.440810        -0.084161         1.986780  2.118270  CON001   \n",
       "1           -0.458851         0.470622        -0.052972  1.737980  CON001   \n",
       "2           -0.127002         0.126991         0.742982  0.209189  CON001   \n",
       "3            0.323117         1.356390        -0.355626  1.094320  CON001   \n",
       "4            1.881410        -0.930500         1.196570  2.472160  CON001   \n",
       "\n",
       "     Group  Pair  \n",
       "0  control   P00  \n",
       "1  control   P00  \n",
       "2  control   P00  \n",
       "3  control   P00  \n",
       "4  control   P00  \n",
       "\n",
       "[5 rows x 27 columns]"
      ]
     },
     "execution_count": 7,
     "metadata": {},
     "output_type": "execute_result"
    }
   ],
   "source": [
    "df.head()"
   ]
  },
  {
   "cell_type": "code",
   "execution_count": 8,
   "metadata": {},
   "outputs": [],
   "source": [
    "mean_df = df.groupby(['Pair','Group','SubjID']).mean().reset_index().melt(id_vars=['Pair','Group','SubjID'],\n",
    "                                                              var_name='ROI',\n",
    "                                                              value_name = 'beta')\n",
    "mean_df.drop('SubjID',axis=1,inplace=True)\n",
    "mean_df = mean_df[mean_df['ROI']!='SCR']\n",
    "mean_df.reset_index(drop=True,inplace=True)\n",
    "\n",
    "mean_df = mean_df.pivot_table(index=['Pair','ROI'],columns='Group',values='beta').reset_index()\n",
    "mean_df.set_index(['Pair','ROI'],inplace=True)"
   ]
  },
  {
   "cell_type": "code",
   "execution_count": 9,
   "metadata": {},
   "outputs": [
    {
     "data": {
      "text/html": [
       "<div>\n",
       "<style scoped>\n",
       "    .dataframe tbody tr th:only-of-type {\n",
       "        vertical-align: middle;\n",
       "    }\n",
       "\n",
       "    .dataframe tbody tr th {\n",
       "        vertical-align: top;\n",
       "    }\n",
       "\n",
       "    .dataframe thead th {\n",
       "        text-align: right;\n",
       "    }\n",
       "</style>\n",
       "<table border=\"1\" class=\"dataframe\">\n",
       "  <thead>\n",
       "    <tr style=\"text-align: right;\">\n",
       "      <th></th>\n",
       "      <th>Group</th>\n",
       "      <th>control</th>\n",
       "      <th>uncontrol</th>\n",
       "    </tr>\n",
       "    <tr>\n",
       "      <th>Pair</th>\n",
       "      <th>ROI</th>\n",
       "      <th></th>\n",
       "      <th></th>\n",
       "    </tr>\n",
       "  </thead>\n",
       "  <tbody>\n",
       "    <tr>\n",
       "      <th rowspan=\"5\" valign=\"top\">P00</th>\n",
       "      <th>ACC</th>\n",
       "      <td>1.010319</td>\n",
       "      <td>1.223042</td>\n",
       "    </tr>\n",
       "    <tr>\n",
       "      <th>Amygdala_BLBM_La_L</th>\n",
       "      <td>-0.134904</td>\n",
       "      <td>-0.105570</td>\n",
       "    </tr>\n",
       "    <tr>\n",
       "      <th>Amygdala_BLBM_La_R</th>\n",
       "      <td>0.267957</td>\n",
       "      <td>0.123400</td>\n",
       "    </tr>\n",
       "    <tr>\n",
       "      <th>Amygdala_CeME_L</th>\n",
       "      <td>0.154363</td>\n",
       "      <td>0.056739</td>\n",
       "    </tr>\n",
       "    <tr>\n",
       "      <th>Amygdala_CeME_R</th>\n",
       "      <td>0.672429</td>\n",
       "      <td>0.661023</td>\n",
       "    </tr>\n",
       "  </tbody>\n",
       "</table>\n",
       "</div>"
      ],
      "text/plain": [
       "Group                     control  uncontrol\n",
       "Pair ROI                                    \n",
       "P00  ACC                 1.010319   1.223042\n",
       "     Amygdala_BLBM_La_L -0.134904  -0.105570\n",
       "     Amygdala_BLBM_La_R  0.267957   0.123400\n",
       "     Amygdala_CeME_L     0.154363   0.056739\n",
       "     Amygdala_CeME_R     0.672429   0.661023"
      ]
     },
     "execution_count": 9,
     "metadata": {},
     "output_type": "execute_result"
    }
   ],
   "source": [
    "mean_df.head()"
   ]
  },
  {
   "cell_type": "code",
   "execution_count": 10,
   "metadata": {},
   "outputs": [],
   "source": [
    "paired_mean_df = mean_df.uncontrol.subtract(mean_df.control)\n",
    "paired_mean_df.name = 'Y'\n",
    "paired_mean_df = paired_mean_df.to_frame().reset_index()"
   ]
  },
  {
   "cell_type": "code",
   "execution_count": 12,
   "metadata": {},
   "outputs": [
    {
     "data": {
      "text/html": [
       "<div>\n",
       "<style scoped>\n",
       "    .dataframe tbody tr th:only-of-type {\n",
       "        vertical-align: middle;\n",
       "    }\n",
       "\n",
       "    .dataframe tbody tr th {\n",
       "        vertical-align: top;\n",
       "    }\n",
       "\n",
       "    .dataframe thead th {\n",
       "        text-align: right;\n",
       "    }\n",
       "</style>\n",
       "<table border=\"1\" class=\"dataframe\">\n",
       "  <thead>\n",
       "    <tr style=\"text-align: right;\">\n",
       "      <th></th>\n",
       "      <th>Pair</th>\n",
       "      <th>ROI</th>\n",
       "      <th>Y</th>\n",
       "    </tr>\n",
       "  </thead>\n",
       "  <tbody>\n",
       "    <tr>\n",
       "      <th>0</th>\n",
       "      <td>P00</td>\n",
       "      <td>ACC</td>\n",
       "      <td>0.212724</td>\n",
       "    </tr>\n",
       "    <tr>\n",
       "      <th>1</th>\n",
       "      <td>P00</td>\n",
       "      <td>Amygdala_BLBM_La_L</td>\n",
       "      <td>0.029334</td>\n",
       "    </tr>\n",
       "    <tr>\n",
       "      <th>2</th>\n",
       "      <td>P00</td>\n",
       "      <td>Amygdala_BLBM_La_R</td>\n",
       "      <td>-0.144557</td>\n",
       "    </tr>\n",
       "    <tr>\n",
       "      <th>3</th>\n",
       "      <td>P00</td>\n",
       "      <td>Amygdala_CeME_L</td>\n",
       "      <td>-0.097623</td>\n",
       "    </tr>\n",
       "    <tr>\n",
       "      <th>4</th>\n",
       "      <td>P00</td>\n",
       "      <td>Amygdala_CeME_R</td>\n",
       "      <td>-0.011405</td>\n",
       "    </tr>\n",
       "  </tbody>\n",
       "</table>\n",
       "</div>"
      ],
      "text/plain": [
       "  Pair                 ROI         Y\n",
       "0  P00                 ACC  0.212724\n",
       "1  P00  Amygdala_BLBM_La_L  0.029334\n",
       "2  P00  Amygdala_BLBM_La_R -0.144557\n",
       "3  P00     Amygdala_CeME_L -0.097623\n",
       "4  P00     Amygdala_CeME_R -0.011405"
      ]
     },
     "execution_count": 12,
     "metadata": {},
     "output_type": "execute_result"
    }
   ],
   "source": [
    "paired_mean_df.head()"
   ]
  },
  {
   "cell_type": "code",
   "execution_count": 13,
   "metadata": {},
   "outputs": [
    {
     "data": {
      "text/html": [
       "<div>\n",
       "<style scoped>\n",
       "    .dataframe tbody tr th:only-of-type {\n",
       "        vertical-align: middle;\n",
       "    }\n",
       "\n",
       "    .dataframe tbody tr th {\n",
       "        vertical-align: top;\n",
       "    }\n",
       "\n",
       "    .dataframe thead th {\n",
       "        text-align: right;\n",
       "    }\n",
       "</style>\n",
       "<table border=\"1\" class=\"dataframe\">\n",
       "  <thead>\n",
       "    <tr style=\"text-align: right;\">\n",
       "      <th></th>\n",
       "      <th>Pair</th>\n",
       "      <th>ROI</th>\n",
       "      <th>TRAITmean</th>\n",
       "      <th>TRAITdiff</th>\n",
       "      <th>STATEmean</th>\n",
       "      <th>STATEdiff</th>\n",
       "      <th>BPdiff_stdz</th>\n",
       "    </tr>\n",
       "  </thead>\n",
       "  <tbody>\n",
       "    <tr>\n",
       "      <th>0</th>\n",
       "      <td>P00</td>\n",
       "      <td>vmPFC</td>\n",
       "      <td>-1.003</td>\n",
       "      <td>-0.0406</td>\n",
       "      <td>-1.2307</td>\n",
       "      <td>-0.1812</td>\n",
       "      <td>-0.8664</td>\n",
       "    </tr>\n",
       "    <tr>\n",
       "      <th>1</th>\n",
       "      <td>P00</td>\n",
       "      <td>PCC1</td>\n",
       "      <td>-1.003</td>\n",
       "      <td>-0.0406</td>\n",
       "      <td>-1.2307</td>\n",
       "      <td>-0.1812</td>\n",
       "      <td>-0.8664</td>\n",
       "    </tr>\n",
       "    <tr>\n",
       "      <th>2</th>\n",
       "      <td>P00</td>\n",
       "      <td>PCC2</td>\n",
       "      <td>-1.003</td>\n",
       "      <td>-0.0406</td>\n",
       "      <td>-1.2307</td>\n",
       "      <td>-0.1812</td>\n",
       "      <td>-0.8664</td>\n",
       "    </tr>\n",
       "    <tr>\n",
       "      <th>3</th>\n",
       "      <td>P00</td>\n",
       "      <td>rPAG</td>\n",
       "      <td>-1.003</td>\n",
       "      <td>-0.0406</td>\n",
       "      <td>-1.2307</td>\n",
       "      <td>-0.1812</td>\n",
       "      <td>-0.8664</td>\n",
       "    </tr>\n",
       "    <tr>\n",
       "      <th>4</th>\n",
       "      <td>P00</td>\n",
       "      <td>lPAG</td>\n",
       "      <td>-1.003</td>\n",
       "      <td>-0.0406</td>\n",
       "      <td>-1.2307</td>\n",
       "      <td>-0.1812</td>\n",
       "      <td>-0.8664</td>\n",
       "    </tr>\n",
       "  </tbody>\n",
       "</table>\n",
       "</div>"
      ],
      "text/plain": [
       "  Pair    ROI  TRAITmean  TRAITdiff  STATEmean  STATEdiff  BPdiff_stdz\n",
       "0  P00  vmPFC     -1.003    -0.0406    -1.2307    -0.1812      -0.8664\n",
       "1  P00   PCC1     -1.003    -0.0406    -1.2307    -0.1812      -0.8664\n",
       "2  P00   PCC2     -1.003    -0.0406    -1.2307    -0.1812      -0.8664\n",
       "3  P00   rPAG     -1.003    -0.0406    -1.2307    -0.1812      -0.8664\n",
       "4  P00   lPAG     -1.003    -0.0406    -1.2307    -0.1812      -0.8664"
      ]
     },
     "execution_count": 13,
     "metadata": {},
     "output_type": "execute_result"
    }
   ],
   "source": [
    "covariates = pd.read_csv('uncon_v_con_shock_MR_ROI24_with_covariates_after_buttPress.txt',sep='\\t')\n",
    "covariates.rename(columns={'Subj':'Pair'},inplace=True)\n",
    "covariates.drop(columns=['Y'],inplace=True)\n",
    "covariates.head()"
   ]
  },
  {
   "cell_type": "code",
   "execution_count": 14,
   "metadata": {},
   "outputs": [
    {
     "data": {
      "text/plain": [
       "(1464, 7)"
      ]
     },
     "execution_count": 14,
     "metadata": {},
     "output_type": "execute_result"
    }
   ],
   "source": [
    "covariates.shape"
   ]
  },
  {
   "cell_type": "code",
   "execution_count": 15,
   "metadata": {},
   "outputs": [
    {
     "data": {
      "text/plain": [
       "(1464, 3)"
      ]
     },
     "execution_count": 15,
     "metadata": {},
     "output_type": "execute_result"
    }
   ],
   "source": [
    "paired_mean_df.shape"
   ]
  },
  {
   "cell_type": "code",
   "execution_count": 17,
   "metadata": {},
   "outputs": [],
   "source": [
    "paired_mean_df = paired_mean_df.merge(covariates)"
   ]
  },
  {
   "cell_type": "code",
   "execution_count": 19,
   "metadata": {},
   "outputs": [],
   "source": [
    "paired_mean_df.to_csv('uncon_v_con_shock_MR_ROI24_mean_of_trial_by_trial.txt',\n",
    "                      index=False,\n",
    "                      sep='\\t',\n",
    "                      float_format='%.4f')"
   ]
  },
  {
   "cell_type": "code",
   "execution_count": null,
   "metadata": {},
   "outputs": [],
   "source": []
  }
 ],
 "metadata": {
  "kernelspec": {
   "display_name": "Python 3",
   "language": "python",
   "name": "python3"
  },
  "language_info": {
   "codemirror_mode": {
    "name": "ipython",
    "version": 3
   },
   "file_extension": ".py",
   "mimetype": "text/x-python",
   "name": "python",
   "nbconvert_exporter": "python",
   "pygments_lexer": "ipython3",
   "version": "3.7.3"
  }
 },
 "nbformat": 4,
 "nbformat_minor": 4
}
