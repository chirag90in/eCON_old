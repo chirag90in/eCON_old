{
 "cells": [
  {
   "cell_type": "code",
   "execution_count": 3,
   "metadata": {},
   "outputs": [],
   "source": [
    "import pandas as pd"
   ]
  },
  {
   "cell_type": "code",
   "execution_count": 4,
   "metadata": {},
   "outputs": [
    {
     "name": "stdout",
     "output_type": "stream",
     "text": [
      "Old shape: (1464, 8)\n",
      "New shape: (1464, 7)\n"
     ]
    },
    {
     "data": {
      "text/html": [
       "<div>\n",
       "<style scoped>\n",
       "    .dataframe tbody tr th:only-of-type {\n",
       "        vertical-align: middle;\n",
       "    }\n",
       "\n",
       "    .dataframe tbody tr th {\n",
       "        vertical-align: top;\n",
       "    }\n",
       "\n",
       "    .dataframe thead th {\n",
       "        text-align: right;\n",
       "    }\n",
       "</style>\n",
       "<table border=\"1\" class=\"dataframe\">\n",
       "  <thead>\n",
       "    <tr style=\"text-align: right;\">\n",
       "      <th></th>\n",
       "      <th>Subj</th>\n",
       "      <th>ROI</th>\n",
       "      <th>Y</th>\n",
       "      <th>TRAITmean</th>\n",
       "      <th>TRAITdiff</th>\n",
       "      <th>STATEmean</th>\n",
       "      <th>STATEdiff</th>\n",
       "    </tr>\n",
       "  </thead>\n",
       "  <tbody>\n",
       "    <tr>\n",
       "      <th>0</th>\n",
       "      <td>P00</td>\n",
       "      <td>L Amygdala (BLBM)</td>\n",
       "      <td>-0.0841</td>\n",
       "      <td>-1.003</td>\n",
       "      <td>-0.0406</td>\n",
       "      <td>-1.2307</td>\n",
       "      <td>-0.1812</td>\n",
       "    </tr>\n",
       "    <tr>\n",
       "      <th>1</th>\n",
       "      <td>P00</td>\n",
       "      <td>R Amygdala (BLBM)</td>\n",
       "      <td>0.1305</td>\n",
       "      <td>-1.003</td>\n",
       "      <td>-0.0406</td>\n",
       "      <td>-1.2307</td>\n",
       "      <td>-0.1812</td>\n",
       "    </tr>\n",
       "    <tr>\n",
       "      <th>2</th>\n",
       "      <td>P00</td>\n",
       "      <td>L Amygdala (CeME)</td>\n",
       "      <td>0.1827</td>\n",
       "      <td>-1.003</td>\n",
       "      <td>-0.0406</td>\n",
       "      <td>-1.2307</td>\n",
       "      <td>-0.1812</td>\n",
       "    </tr>\n",
       "    <tr>\n",
       "      <th>3</th>\n",
       "      <td>P00</td>\n",
       "      <td>R Amygdala (CeME)</td>\n",
       "      <td>0.2318</td>\n",
       "      <td>-1.003</td>\n",
       "      <td>-0.0406</td>\n",
       "      <td>-1.2307</td>\n",
       "      <td>-0.1812</td>\n",
       "    </tr>\n",
       "    <tr>\n",
       "      <th>4</th>\n",
       "      <td>P00</td>\n",
       "      <td>L aMCC</td>\n",
       "      <td>1.3089</td>\n",
       "      <td>-1.003</td>\n",
       "      <td>-0.0406</td>\n",
       "      <td>-1.2307</td>\n",
       "      <td>-0.1812</td>\n",
       "    </tr>\n",
       "  </tbody>\n",
       "</table>\n",
       "</div>"
      ],
      "text/plain": [
       "  Subj                ROI       Y  TRAITmean  TRAITdiff  STATEmean  STATEdiff\n",
       "0  P00  L Amygdala (BLBM) -0.0841     -1.003    -0.0406    -1.2307    -0.1812\n",
       "1  P00  R Amygdala (BLBM)  0.1305     -1.003    -0.0406    -1.2307    -0.1812\n",
       "2  P00  L Amygdala (CeME)  0.1827     -1.003    -0.0406    -1.2307    -0.1812\n",
       "3  P00  R Amygdala (CeME)  0.2318     -1.003    -0.0406    -1.2307    -0.1812\n",
       "4  P00             L aMCC  1.3089     -1.003    -0.0406    -1.2307    -0.1812"
      ]
     },
     "execution_count": 4,
     "metadata": {},
     "output_type": "execute_result"
    }
   ],
   "source": [
    "old_df = pd.read_csv('uncon_v_con_shock_MR_ROI24_with_covariates_after_buttPress.txt',sep='\\t')\n",
    "new_df = pd.read_csv('uncon_v_con_shock_MR_ROI24final_with_covariates.txt',sep='\\t')\n",
    "print('Old shape:', old_df.shape)\n",
    "print('New shape:', new_df.shape)\n",
    "new_df.head()"
   ]
  },
  {
   "cell_type": "code",
   "execution_count": 5,
   "metadata": {},
   "outputs": [
    {
     "name": "stdout",
     "output_type": "stream",
     "text": [
      "Newest shape:  (1464, 8)\n"
     ]
    }
   ],
   "source": [
    "new_df = new_df.merge(right = old_df[['Subj','BPdiff_stdz']].drop_duplicates(),on='Subj')\n",
    "print('Newest shape: ',new_df.shape)"
   ]
  },
  {
   "cell_type": "code",
   "execution_count": 6,
   "metadata": {},
   "outputs": [
    {
     "data": {
      "text/html": [
       "<div>\n",
       "<style scoped>\n",
       "    .dataframe tbody tr th:only-of-type {\n",
       "        vertical-align: middle;\n",
       "    }\n",
       "\n",
       "    .dataframe tbody tr th {\n",
       "        vertical-align: top;\n",
       "    }\n",
       "\n",
       "    .dataframe thead th {\n",
       "        text-align: right;\n",
       "    }\n",
       "</style>\n",
       "<table border=\"1\" class=\"dataframe\">\n",
       "  <thead>\n",
       "    <tr style=\"text-align: right;\">\n",
       "      <th></th>\n",
       "      <th>Subj</th>\n",
       "      <th>ROI</th>\n",
       "      <th>Y</th>\n",
       "      <th>TRAITmean</th>\n",
       "      <th>TRAITdiff</th>\n",
       "      <th>STATEmean</th>\n",
       "      <th>STATEdiff</th>\n",
       "      <th>BPdiff_stdz</th>\n",
       "    </tr>\n",
       "  </thead>\n",
       "  <tbody>\n",
       "    <tr>\n",
       "      <th>0</th>\n",
       "      <td>P00</td>\n",
       "      <td>L Amygdala (BLBM)</td>\n",
       "      <td>-0.0841</td>\n",
       "      <td>-1.003</td>\n",
       "      <td>-0.0406</td>\n",
       "      <td>-1.2307</td>\n",
       "      <td>-0.1812</td>\n",
       "      <td>-0.8664</td>\n",
       "    </tr>\n",
       "    <tr>\n",
       "      <th>1</th>\n",
       "      <td>P00</td>\n",
       "      <td>R Amygdala (BLBM)</td>\n",
       "      <td>0.1305</td>\n",
       "      <td>-1.003</td>\n",
       "      <td>-0.0406</td>\n",
       "      <td>-1.2307</td>\n",
       "      <td>-0.1812</td>\n",
       "      <td>-0.8664</td>\n",
       "    </tr>\n",
       "    <tr>\n",
       "      <th>2</th>\n",
       "      <td>P00</td>\n",
       "      <td>L Amygdala (CeME)</td>\n",
       "      <td>0.1827</td>\n",
       "      <td>-1.003</td>\n",
       "      <td>-0.0406</td>\n",
       "      <td>-1.2307</td>\n",
       "      <td>-0.1812</td>\n",
       "      <td>-0.8664</td>\n",
       "    </tr>\n",
       "    <tr>\n",
       "      <th>3</th>\n",
       "      <td>P00</td>\n",
       "      <td>R Amygdala (CeME)</td>\n",
       "      <td>0.2318</td>\n",
       "      <td>-1.003</td>\n",
       "      <td>-0.0406</td>\n",
       "      <td>-1.2307</td>\n",
       "      <td>-0.1812</td>\n",
       "      <td>-0.8664</td>\n",
       "    </tr>\n",
       "    <tr>\n",
       "      <th>4</th>\n",
       "      <td>P00</td>\n",
       "      <td>L aMCC</td>\n",
       "      <td>1.3089</td>\n",
       "      <td>-1.003</td>\n",
       "      <td>-0.0406</td>\n",
       "      <td>-1.2307</td>\n",
       "      <td>-0.1812</td>\n",
       "      <td>-0.8664</td>\n",
       "    </tr>\n",
       "  </tbody>\n",
       "</table>\n",
       "</div>"
      ],
      "text/plain": [
       "  Subj                ROI       Y  TRAITmean  TRAITdiff  STATEmean  STATEdiff  \\\n",
       "0  P00  L Amygdala (BLBM) -0.0841     -1.003    -0.0406    -1.2307    -0.1812   \n",
       "1  P00  R Amygdala (BLBM)  0.1305     -1.003    -0.0406    -1.2307    -0.1812   \n",
       "2  P00  L Amygdala (CeME)  0.1827     -1.003    -0.0406    -1.2307    -0.1812   \n",
       "3  P00  R Amygdala (CeME)  0.2318     -1.003    -0.0406    -1.2307    -0.1812   \n",
       "4  P00             L aMCC  1.3089     -1.003    -0.0406    -1.2307    -0.1812   \n",
       "\n",
       "   BPdiff_stdz  \n",
       "0      -0.8664  \n",
       "1      -0.8664  \n",
       "2      -0.8664  \n",
       "3      -0.8664  \n",
       "4      -0.8664  "
      ]
     },
     "execution_count": 6,
     "metadata": {},
     "output_type": "execute_result"
    }
   ],
   "source": [
    "new_df.head()"
   ]
  },
  {
   "cell_type": "code",
   "execution_count": 7,
   "metadata": {},
   "outputs": [],
   "source": [
    "new_df.to_csv('uncon_v_con_shock_MR_ROI24final_with_covariates.txt',sep='\\t',index=False)"
   ]
  },
  {
   "cell_type": "code",
   "execution_count": null,
   "metadata": {},
   "outputs": [],
   "source": []
  }
 ],
 "metadata": {
  "kernelspec": {
   "display_name": "Python 3",
   "language": "python",
   "name": "python3"
  },
  "language_info": {
   "codemirror_mode": {
    "name": "ipython",
    "version": 3
   },
   "file_extension": ".py",
   "mimetype": "text/x-python",
   "name": "python",
   "nbconvert_exporter": "python",
   "pygments_lexer": "ipython3",
   "version": "3.7.3"
  }
 },
 "nbformat": 4,
 "nbformat_minor": 4
}
