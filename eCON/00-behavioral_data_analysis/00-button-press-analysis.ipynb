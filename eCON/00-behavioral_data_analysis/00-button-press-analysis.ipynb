{
 "cells": [
  {
   "cell_type": "code",
   "execution_count": 1,
   "metadata": {},
   "outputs": [
    {
     "data": {
      "text/html": [
       "<script>\n",
       "code_show=true; \n",
       "function code_toggle() {\n",
       " if (code_show){\n",
       " $('div.input').hide();\n",
       " } else {\n",
       " $('div.input').show();\n",
       " }\n",
       " code_show = !code_show\n",
       "} \n",
       "$( document ).ready(code_toggle);\n",
       "</script>\n",
       "<form action=\"javascript:code_toggle()\"><input type=\"submit\" value=\"Click here to toggle on/off the raw code.\"></form>"
      ],
      "text/plain": [
       "<IPython.core.display.HTML object>"
      ]
     },
     "execution_count": 1,
     "metadata": {},
     "output_type": "execute_result"
    }
   ],
   "source": [
    "from IPython.display import HTML\n",
    "\n",
    "HTML('''<script>\n",
    "code_show=true; \n",
    "function code_toggle() {\n",
    " if (code_show){\n",
    " $('div.input').hide();\n",
    " } else {\n",
    " $('div.input').show();\n",
    " }\n",
    " code_show = !code_show\n",
    "} \n",
    "$( document ).ready(code_toggle);\n",
    "</script>\n",
    "<form action=\"javascript:code_toggle()\"><input type=\"submit\" value=\"Click here to toggle on/off the raw code.\"></form>''')\n"
   ]
  },
  {
   "cell_type": "code",
   "execution_count": 2,
   "metadata": {},
   "outputs": [],
   "source": [
    "import pandas as pd\n",
    "import numpy as np\n",
    "import os\n",
    "from os.path import join, isdir, dirname, basename, exists\n",
    "import itertools\n",
    "\n",
    "import matplotlib.pyplot as plt\n",
    "import seaborn as sns; sns.set(context=\"paper\",style=\"white\",font_scale=1.25)\n",
    "from glob import glob\n",
    "\n",
    "import matplotlib as mpl"
   ]
  },
  {
   "cell_type": "code",
   "execution_count": 3,
   "metadata": {},
   "outputs": [],
   "source": [
    "eCON= '/data/bswift-1/Pessoa_Lab/eCON'\n",
    "DATPAT = join(eCON,'onsetdir/{subj}/subj{subj}_run{run}.dat')\n",
    "yoked = pd.read_excel(join(eCON,'onsetdir/CON_yoked_table.xlsx'))\n",
    "yoked = yoked.query('use == 1')"
   ]
  },
  {
   "cell_type": "code",
   "execution_count": 4,
   "metadata": {},
   "outputs": [
    {
     "data": {
      "text/plain": [
       "'/data/bswift-1/Pessoa_Lab/eCON/onsetdir/001/subj001_run0.dat'"
      ]
     },
     "execution_count": 4,
     "metadata": {},
     "output_type": "execute_result"
    }
   ],
   "source": [
    "DATPAT.format(subj='001',run=0)"
   ]
  },
  {
   "cell_type": "code",
   "execution_count": 5,
   "metadata": {},
   "outputs": [],
   "source": [
    "# load the data from the .dat (json) file into a dictionary  \n",
    "from json import load\n",
    "\n",
    "path = DATPAT.format(subj='CON016', run=0)\n",
    "with open(path, 'r') as f:\n",
    "    data = load(f)"
   ]
  },
  {
   "cell_type": "code",
   "execution_count": 6,
   "metadata": {},
   "outputs": [
    {
     "name": "stdout",
     "output_type": "stream",
     "text": [
      "{'BlockDur': [...],\n",
      " 'BlockOffset': [...],\n",
      " 'BlockOnset': [...],\n",
      " 'DiffProgress': [...],\n",
      " 'Escapes': [...],\n",
      " 'Quit': [],\n",
      " 'RunDur': 455.0000139699764,\n",
      " 'ShockDur': [...],\n",
      " 'ShockLvl': '3.5',\n",
      " 'ShockOffset': [...],\n",
      " 'ShockOnset': [...],\n",
      " 'nonEscapes': [...],\n",
      " 'ySubj': 'CON007'}\n"
     ]
    }
   ],
   "source": [
    "from pprint import pprint\n",
    "pprint(data, depth=1, compact=True)"
   ]
  },
  {
   "cell_type": "code",
   "execution_count": 7,
   "metadata": {},
   "outputs": [],
   "source": [
    "df = pd.DataFrame()\n",
    "shock_durs = []\n",
    "\n",
    "for i, row in yoked.iterrows():\n",
    "    subj = row['uncontrol']\n",
    "    runs = np.arange(6)[row.loc['run0':'run5'].astype(bool)]\n",
    "    for j, run in enumerate(runs):\n",
    "        path = DATPAT.format(subj=subj, run=run)\n",
    "        with open(path, 'r') as f:\n",
    "            data = load(f)\n",
    "            \n",
    "        numEsc = len(list(itertools.chain(*data['Escapes'])))\n",
    "        numNonEsc = len(data['nonEscapes'])\n",
    "        tmp_df_uncon = pd.DataFrame(['P{:02d}'.format(i),'uncontrol',subj,j,numNonEsc],index=['Pair','Group','Subject','run','buttPress']).T\n",
    "        tmp_df_con = pd.DataFrame(['P{:02d}'.format(i),'control',row['control'],j,numEsc],index=['Pair','Group','Subject','run','buttPress']).T\n",
    "        df = pd.concat([df,tmp_df_con,tmp_df_uncon],axis=0,ignore_index=True)\n",
    "        \n",
    "        shock_durs.extend(data['ShockDur'])"
   ]
  },
  {
   "cell_type": "code",
   "execution_count": 8,
   "metadata": {},
   "outputs": [
    {
     "data": {
      "text/plain": [
       "Text(0.5, 1.0, 'Shock Durations')"
      ]
     },
     "execution_count": 8,
     "metadata": {},
     "output_type": "execute_result"
    },
    {
     "data": {
      "image/png": "[encoded data removed]",
      "text/plain": [
       "<Figure size 432x288 with 1 Axes>"
      ]
     },
     "metadata": {
      "needs_background": "light"
     },
     "output_type": "display_data"
    }
   ],
   "source": [
    "_=plt.hist(shock_durs,bins = 30)\n",
    "plt.title('Shock Durations')"
   ]
  },
  {
   "cell_type": "code",
   "execution_count": 9,
   "metadata": {},
   "outputs": [],
   "source": [
    "summed_df = df.groupby(['Pair','Group','Subject'])['buttPress'].sum().reset_index()"
   ]
  },
  {
   "cell_type": "code",
   "execution_count": 10,
   "metadata": {},
   "outputs": [],
   "source": [
    "summed_df.set_index('Pair',inplace=True)"
   ]
  },
  {
   "cell_type": "code",
   "execution_count": 17,
   "metadata": {},
   "outputs": [
    {
     "data": {
      "text/html": [
       "<div>\n",
       "<style scoped>\n",
       "    .dataframe tbody tr th:only-of-type {\n",
       "        vertical-align: middle;\n",
       "    }\n",
       "\n",
       "    .dataframe tbody tr th {\n",
       "        vertical-align: top;\n",
       "    }\n",
       "\n",
       "    .dataframe thead th {\n",
       "        text-align: right;\n",
       "    }\n",
       "</style>\n",
       "<table border=\"1\" class=\"dataframe\">\n",
       "  <thead>\n",
       "    <tr style=\"text-align: right;\">\n",
       "      <th></th>\n",
       "      <th>mean</th>\n",
       "      <th>std</th>\n",
       "    </tr>\n",
       "    <tr>\n",
       "      <th>Group</th>\n",
       "      <th></th>\n",
       "      <th></th>\n",
       "    </tr>\n",
       "  </thead>\n",
       "  <tbody>\n",
       "    <tr>\n",
       "      <th>control</th>\n",
       "      <td>173.163934</td>\n",
       "      <td>18.010349</td>\n",
       "    </tr>\n",
       "    <tr>\n",
       "      <th>uncontrol</th>\n",
       "      <td>132.278689</td>\n",
       "      <td>55.835213</td>\n",
       "    </tr>\n",
       "  </tbody>\n",
       "</table>\n",
       "</div>"
      ],
      "text/plain": [
       "                 mean        std\n",
       "Group                           \n",
       "control    173.163934  18.010349\n",
       "uncontrol  132.278689  55.835213"
      ]
     },
     "execution_count": 17,
     "metadata": {},
     "output_type": "execute_result"
    }
   ],
   "source": [
    "summed_df.groupby('Group')['buttPress'].agg(['mean','std'])"
   ]
  },
  {
   "cell_type": "code",
   "execution_count": 10,
   "metadata": {},
   "outputs": [
    {
     "data": {
      "text/html": [
       "<div>\n",
       "<style scoped>\n",
       "    .dataframe tbody tr th:only-of-type {\n",
       "        vertical-align: middle;\n",
       "    }\n",
       "\n",
       "    .dataframe tbody tr th {\n",
       "        vertical-align: top;\n",
       "    }\n",
       "\n",
       "    .dataframe thead th {\n",
       "        text-align: right;\n",
       "    }\n",
       "</style>\n",
       "<table border=\"1\" class=\"dataframe\">\n",
       "  <thead>\n",
       "    <tr style=\"text-align: right;\">\n",
       "      <th></th>\n",
       "      <th>Y</th>\n",
       "    </tr>\n",
       "    <tr>\n",
       "      <th>Pair</th>\n",
       "      <th></th>\n",
       "    </tr>\n",
       "  </thead>\n",
       "  <tbody>\n",
       "    <tr>\n",
       "      <th>P00</th>\n",
       "      <td>-87</td>\n",
       "    </tr>\n",
       "    <tr>\n",
       "      <th>P01</th>\n",
       "      <td>-21</td>\n",
       "    </tr>\n",
       "    <tr>\n",
       "      <th>P02</th>\n",
       "      <td>-57</td>\n",
       "    </tr>\n",
       "    <tr>\n",
       "      <th>P03</th>\n",
       "      <td>-23</td>\n",
       "    </tr>\n",
       "    <tr>\n",
       "      <th>P04</th>\n",
       "      <td>-83</td>\n",
       "    </tr>\n",
       "  </tbody>\n",
       "</table>\n",
       "</div>"
      ],
      "text/plain": [
       "       Y\n",
       "Pair    \n",
       "P00  -87\n",
       "P01  -21\n",
       "P02  -57\n",
       "P03  -23\n",
       "P04  -83"
      ]
     },
     "execution_count": 10,
     "metadata": {},
     "output_type": "execute_result"
    }
   ],
   "source": [
    "diff_df = summed_df[summed_df.Group == 'uncontrol']['buttPress'].subtract(summed_df[summed_df.Group == 'control']['buttPress']).to_frame('Y')\n",
    "diff_df.head()"
   ]
  },
  {
   "cell_type": "code",
   "execution_count": 11,
   "metadata": {},
   "outputs": [],
   "source": [
    "diff_df.to_csv('buttonPressDiff.csv')"
   ]
  },
  {
   "cell_type": "markdown",
   "metadata": {},
   "source": [
    "### Add difference in button press as a covariate"
   ]
  },
  {
   "cell_type": "code",
   "execution_count": 12,
   "metadata": {},
   "outputs": [],
   "source": [
    "def perm_rel_sample(samp,n_perms=10000):\n",
    "    n, k, samp_dist = len(samp), 0, []\n",
    "    mean_h1 = np.abs(np.mean(samp))\n",
    "    for n in range(n_perms):\n",
    "        mean_h0 = np.mean([val*np.random.choice([1,-1],) for val in samp])\n",
    "        samp_dist.append(mean_h0)\n",
    "        k += np.abs(mean_h0) > mean_h1\n",
    "    return(samp_dist,(k+1)/(n_perms+1))"
   ]
  },
  {
   "cell_type": "code",
   "execution_count": 13,
   "metadata": {},
   "outputs": [],
   "source": [
    "samp_dist, p_val = perm_rel_sample(diff_df.Y,10000)"
   ]
  },
  {
   "cell_type": "code",
   "execution_count": 14,
   "metadata": {},
   "outputs": [
    {
     "name": "stdout",
     "output_type": "stream",
     "text": [
      "Paired Samples T-test p-value: 0.00000015\n",
      "Paired Samples permutation test p-value: 0.00019998\n"
     ]
    }
   ],
   "source": [
    "from scipy.stats import ttest_1samp\n",
    "print('Paired Samples T-test p-value: %.8f' %(ttest_1samp(diff_df.Y,0)[1]))\n",
    "print('Paired Samples permutation test p-value: %.8f' %(p_val))"
   ]
  },
  {
   "cell_type": "code",
   "execution_count": 15,
   "metadata": {},
   "outputs": [
    {
     "data": {
      "text/plain": [
       "<matplotlib.lines.Line2D at 0x7fe3de0b8438>"
      ]
     },
     "execution_count": 15,
     "metadata": {},
     "output_type": "execute_result"
    },
    {
     "data": {
      "image/png": "[encoded data removed]",
      "text/plain": [
       "<Figure size 432x288 with 1 Axes>"
      ]
     },
     "metadata": {
      "needs_background": "light"
     },
     "output_type": "display_data"
    }
   ],
   "source": [
    "_=plt.hist(samp_dist,bins=25,alpha=0.45)\n",
    "plt.axvline(x=np.mean(diff_df.Y),c='red',label='Observed mean')\n",
    "plt.axvline(x=np.mean(samp_dist),c='blue',label='Mean of \\nsampling dsitribution')"
   ]
  },
  {
   "cell_type": "code",
   "execution_count": 16,
   "metadata": {},
   "outputs": [
    {
     "data": {
      "text/plain": [
       "Text(0.5, 0, 'Number of button press: (uncontrol-control)')"
      ]
     },
     "execution_count": 16,
     "metadata": {},
     "output_type": "execute_result"
    },
    {
     "data": {
      "image/png": "[encoded data removed]",
      "text/plain": [
       "<Figure size 432x288 with 1 Axes>"
      ]
     },
     "metadata": {
      "needs_background": "light"
     },
     "output_type": "display_data"
    }
   ],
   "source": [
    "diff_df.Y.plot(kind='hist',bins=25)\n",
    "plt.xlabel('Number of button press: (uncontrol-control)')"
   ]
  },
  {
   "cell_type": "code",
   "execution_count": 38,
   "metadata": {},
   "outputs": [
    {
     "data": {
      "text/html": [
       "<div>\n",
       "<style scoped>\n",
       "    .dataframe tbody tr th:only-of-type {\n",
       "        vertical-align: middle;\n",
       "    }\n",
       "\n",
       "    .dataframe tbody tr th {\n",
       "        vertical-align: top;\n",
       "    }\n",
       "\n",
       "    .dataframe thead th {\n",
       "        text-align: right;\n",
       "    }\n",
       "</style>\n",
       "<table border=\"1\" class=\"dataframe\">\n",
       "  <thead>\n",
       "    <tr style=\"text-align: right;\">\n",
       "      <th></th>\n",
       "      <th>Y</th>\n",
       "    </tr>\n",
       "    <tr>\n",
       "      <th>Pair</th>\n",
       "      <th></th>\n",
       "    </tr>\n",
       "  </thead>\n",
       "  <tbody>\n",
       "    <tr>\n",
       "      <th>P00</th>\n",
       "      <td>-0.866438</td>\n",
       "    </tr>\n",
       "    <tr>\n",
       "      <th>P01</th>\n",
       "      <td>0.373619</td>\n",
       "    </tr>\n",
       "    <tr>\n",
       "      <th>P02</th>\n",
       "      <td>-0.302776</td>\n",
       "    </tr>\n",
       "    <tr>\n",
       "      <th>P03</th>\n",
       "      <td>0.336041</td>\n",
       "    </tr>\n",
       "    <tr>\n",
       "      <th>P04</th>\n",
       "      <td>-0.791283</td>\n",
       "    </tr>\n",
       "  </tbody>\n",
       "</table>\n",
       "</div>"
      ],
      "text/plain": [
       "             Y\n",
       "Pair          \n",
       "P00  -0.866438\n",
       "P01   0.373619\n",
       "P02  -0.302776\n",
       "P03   0.336041\n",
       "P04  -0.791283"
      ]
     },
     "execution_count": 38,
     "metadata": {},
     "output_type": "execute_result"
    }
   ],
   "source": [
    "from sklearn.preprocessing import StandardScaler\n",
    "\n",
    "stdz = StandardScaler()\n",
    "diff_df_stdz = pd.DataFrame(stdz.fit_transform(diff_df),columns=diff_df.columns,index=diff_df.index)\n",
    "diff_df_stdz.head()"
   ]
  },
  {
   "cell_type": "code",
   "execution_count": 17,
   "metadata": {},
   "outputs": [],
   "source": [
    "con_df = pd.DataFrame(columns=['Subject','run','trial','buttPress'])\n",
    "for i, row in yoked.iterrows():\n",
    "    subj = row['uncontrol']\n",
    "    runs = np.arange(6)[row.loc['run0':'run5'].astype(bool)]\n",
    "    for j, run in enumerate(runs,start=1):\n",
    "        path = DATPAT.format(subj=subj, run=run)\n",
    "        with open(path, 'r') as f:\n",
    "            data = load(f)\n",
    "        \n",
    "        for k,event in enumerate(data['Escapes'],start=1):\n",
    "            tmp_df = pd.DataFrame([data['ySubj'],j,k,len(event)],index=['Subject','run','trial','buttPress']).T\n",
    "            con_df = con_df.append(tmp_df,ignore_index=True)\n",
    "            \n",
    "con_df['buttPress'] = con_df['buttPress'].astype(float)"
   ]
  },
  {
   "cell_type": "code",
   "execution_count": 18,
   "metadata": {},
   "outputs": [
    {
     "data": {
      "text/plain": [
       "Text(0.5, 0, '(Run, Trial)')"
      ]
     },
     "execution_count": 18,
     "metadata": {},
     "output_type": "execute_result"
    },
    {
     "data": {
      "image/png": "[encoded data removed]",
      "text/plain": [
       "<Figure size 720x432 with 1 Axes>"
      ]
     },
     "metadata": {
      "needs_background": "light"
     },
     "output_type": "display_data"
    }
   ],
   "source": [
    "con_df.groupby(['run','trial'])['buttPress'].mean().round().plot('bar',figsize=(10,6),fontsize=14)\n",
    "plt.ylabel('# of Button Press')\n",
    "plt.xlabel('(Run, Trial)')"
   ]
  },
  {
   "cell_type": "markdown",
   "metadata": {},
   "source": [
    "$$y = \\beta_{0} + \\beta_{SM} + \\beta_{TM} + \\beta_{SD} + \\beta_{TD}$$"
   ]
  },
  {
   "cell_type": "markdown",
   "metadata": {},
   "source": [
    "$$y = \\beta_{0} + \\beta_{SM}SM + \\beta_{TM}TM + \\beta_{SD}SD + \\beta_{TD}TD + \\epsilon$$\n",
    "\n",
    "Where,  \n",
    "SM: State mean  \n",
    "TM: Trait mean  \n",
    "SD: State difference  \n",
    "TD: Trait difference\n",
    "\n",
    "$y$: can be, \n",
    "1. difference (uncon-con) in the ROI shock response\n",
    "2. difference in the SCR-ROI shock correlation values\n",
    "3. difference in the number of button presses\n",
    "\n",
    "$\\beta_{0}$ is of interest\n",
    "\n"
   ]
  },
  {
   "cell_type": "code",
   "execution_count": null,
   "metadata": {},
   "outputs": [],
   "source": []
  }
 ],
 "metadata": {
  "kernelspec": {
   "display_name": "Python 3",
   "language": "python",
   "name": "python3"
  },
  "language_info": {
   "codemirror_mode": {
    "name": "ipython",
    "version": 3
   },
   "file_extension": ".py",
   "mimetype": "text/x-python",
   "name": "python",
   "nbconvert_exporter": "python",
   "pygments_lexer": "ipython3",
   "version": "3.7.3"
  }
 },
 "nbformat": 4,
 "nbformat_minor": 4
}
