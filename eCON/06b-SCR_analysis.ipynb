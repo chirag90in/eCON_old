{
 "cells": [
  {
   "cell_type": "code",
   "execution_count": 1,
   "metadata": {},
   "outputs": [
    {
     "data": {
      "text/html": [
       "<script>\n",
       "code_show=true; \n",
       "function code_toggle() {\n",
       " if (code_show){\n",
       " $('div.input').hide();\n",
       " } else {\n",
       " $('div.input').show();\n",
       " }\n",
       " code_show = !code_show\n",
       "} \n",
       "$( document ).ready(code_toggle);\n",
       "</script>\n",
       "<form action=\"javascript:code_toggle()\"><input type=\"submit\" value=\"Click here to toggle on/off the raw code.\"></form>"
      ],
      "text/plain": [
       "<IPython.core.display.HTML object>"
      ]
     },
     "execution_count": 1,
     "metadata": {},
     "output_type": "execute_result"
    }
   ],
   "source": [
    "from IPython.display import HTML\n",
    "\n",
    "HTML('''<script>\n",
    "code_show=true; \n",
    "function code_toggle() {\n",
    " if (code_show){\n",
    " $('div.input').hide();\n",
    " } else {\n",
    " $('div.input').show();\n",
    " }\n",
    " code_show = !code_show\n",
    "} \n",
    "$( document ).ready(code_toggle);\n",
    "</script>\n",
    "<form action=\"javascript:code_toggle()\"><input type=\"submit\" value=\"Click here to toggle on/off the raw code.\"></form>''')"
   ]
  },
  {
   "cell_type": "code",
   "execution_count": 2,
   "metadata": {},
   "outputs": [],
   "source": [
    "from IPython.core.debugger import set_trace\n",
    "\n",
    "import pandas as pd\n",
    "import numpy as np\n",
    "import os\n",
    "from os.path import join, isdir, dirname, basename, exists\n",
    "from os import mkdir\n",
    "import glob as glob\n",
    "import matplotlib.pyplot as plt\n",
    "import seaborn as sns; sns.set(context=\"paper\",style=\"white\",font_scale=1.5)\n",
    "\n",
    "%matplotlib inline\n",
    "cmap = plt.get_cmap('Set1')"
   ]
  },
  {
   "cell_type": "code",
   "execution_count": 3,
   "metadata": {},
   "outputs": [],
   "source": [
    "eCON = '/data/bswift-1/Pessoa_Lab/eCON'\n",
    "bucket_path = join(eCON,'SCR_new/dataset/results_ShockUncensored/{subj}/{group}/splitted_regs/noProx/buttonPress/{subj}_bucket_REML_clean.1D')\n",
    "yoked = pd.read_excel(join(eCON,'SCR_new/scripts/CON_yoked_table.xlsx'))\n",
    "yoked = yoked.query('use == 1')\n",
    "\n",
    "N = 57\n",
    "\n",
    "effects = 'signNearest signNear signFar magNearest magNear magFar signXmagNearest signXmagNear signXmagFar v_motion block_onset block_offset'.split()"
   ]
  },
  {
   "cell_type": "code",
   "execution_count": 4,
   "metadata": {},
   "outputs": [],
   "source": [
    "def combine_beta(beta,t):\n",
    "    weights = (t/beta)**2\n",
    "    combined_beta = np.sum(weights*beta,axis=0)/np.sum(weights,axis=0)\n",
    "    return combined_beta"
   ]
  },
  {
   "cell_type": "code",
   "execution_count": 5,
   "metadata": {},
   "outputs": [],
   "source": [
    "if exists('Individual_betas_from_SCR_analysis_S_buttonPress.csv'):\n",
    "    shock_df = pd.read_csv('Individual_betas_from_SCR_analysis_S_buttonPress.csv')\n",
    "else:\n",
    "    shock_df = pd.DataFrame()\n",
    "    for i,row in yoked.iterrows():\n",
    "        for kind in ['control','uncontrol']:\n",
    "            subj = row[kind]\n",
    "            group = kind+'lable'\n",
    "            nruns = np.sum(row.loc['run0':'run5'].astype(bool))\n",
    "            data = np.loadtxt(bucket_path.format(subj=subj,group=group))\n",
    "\n",
    "            shock_est = data[25:][:nruns*2]\n",
    "            beta = shock_est[::2]\n",
    "            t = shock_est[1::2]\n",
    "            combined_beta = combine_beta(beta=beta,t=t)\n",
    "            #print('-'*50)\n",
    "            #print(subj)\n",
    "            #print('betas: ',beta)\n",
    "            #print('tstat: ',t)\n",
    "            tmp_df = pd.DataFrame({'Pair':['P{:02}'.format(i)],'Subject':[subj],'Group':[kind],'shock':[combined_beta]})\n",
    "            shock_df = pd.concat([shock_df,tmp_df],axis=0,ignore_index=True)\n",
    "\n",
    "shock_df.to_csv('Individual_betas_from_SCR_analysis_S_buttonPress.csv',index=False)"
   ]
  },
  {
   "cell_type": "code",
   "execution_count": 8,
   "metadata": {},
   "outputs": [],
   "source": [
    "effects_df = pd.DataFrame()\n",
    "\n",
    "for i,row in yoked.iterrows():\n",
    "    for kind in ['control','uncontrol']:\n",
    "        subj = row[kind]\n",
    "        group = kind+'lable'\n",
    "        betas = np.loadtxt(bucket_path.format(subj=subj,group=group))\n",
    "        tmp_pd = pd.DataFrame(betas[1::2][:12],index=effects).T\n",
    "        tmp_pd['Subject'] = row[kind]\n",
    "        tmp_pd['Group'] = kind\n",
    "        tmp_pd['Pair'] = 'P{:02d}'.format(i)\n",
    "        \n",
    "        effects_df = pd.concat([effects_df,tmp_pd],axis=0,ignore_index=True)"
   ]
  },
  {
   "cell_type": "code",
   "execution_count": 9,
   "metadata": {},
   "outputs": [
    {
     "name": "stdout",
     "output_type": "stream",
     "text": [
      "(114, 16)\n"
     ]
    },
    {
     "data": {
      "text/html": [
       "<div>\n",
       "<style scoped>\n",
       "    .dataframe tbody tr th:only-of-type {\n",
       "        vertical-align: middle;\n",
       "    }\n",
       "\n",
       "    .dataframe tbody tr th {\n",
       "        vertical-align: top;\n",
       "    }\n",
       "\n",
       "    .dataframe thead th {\n",
       "        text-align: right;\n",
       "    }\n",
       "</style>\n",
       "<table border=\"1\" class=\"dataframe\">\n",
       "  <thead>\n",
       "    <tr style=\"text-align: right;\">\n",
       "      <th></th>\n",
       "      <th>Pair</th>\n",
       "      <th>Subject</th>\n",
       "      <th>Group</th>\n",
       "      <th>shock</th>\n",
       "      <th>signNearest</th>\n",
       "      <th>signNear</th>\n",
       "      <th>signFar</th>\n",
       "      <th>magNearest</th>\n",
       "      <th>magNear</th>\n",
       "      <th>magFar</th>\n",
       "      <th>signXmagNearest</th>\n",
       "      <th>signXmagNear</th>\n",
       "      <th>signXmagFar</th>\n",
       "      <th>v_motion</th>\n",
       "      <th>block_onset</th>\n",
       "      <th>block_offset</th>\n",
       "    </tr>\n",
       "  </thead>\n",
       "  <tbody>\n",
       "    <tr>\n",
       "      <th>0</th>\n",
       "      <td>P00</td>\n",
       "      <td>CON001</td>\n",
       "      <td>control</td>\n",
       "      <td>3.863367</td>\n",
       "      <td>0.421400</td>\n",
       "      <td>-0.016414</td>\n",
       "      <td>0.008958</td>\n",
       "      <td>0.046983</td>\n",
       "      <td>0.030319</td>\n",
       "      <td>0.022981</td>\n",
       "      <td>0.191093</td>\n",
       "      <td>-0.024593</td>\n",
       "      <td>0.075500</td>\n",
       "      <td>-0.025930</td>\n",
       "      <td>0.464878</td>\n",
       "      <td>-0.005874</td>\n",
       "    </tr>\n",
       "    <tr>\n",
       "      <th>1</th>\n",
       "      <td>P00</td>\n",
       "      <td>CON031</td>\n",
       "      <td>uncontrol</td>\n",
       "      <td>1.134769</td>\n",
       "      <td>0.753854</td>\n",
       "      <td>-0.046420</td>\n",
       "      <td>0.033977</td>\n",
       "      <td>0.229416</td>\n",
       "      <td>0.010673</td>\n",
       "      <td>-0.024889</td>\n",
       "      <td>0.535462</td>\n",
       "      <td>-0.037987</td>\n",
       "      <td>0.053637</td>\n",
       "      <td>-0.001545</td>\n",
       "      <td>0.089154</td>\n",
       "      <td>0.000000</td>\n",
       "    </tr>\n",
       "    <tr>\n",
       "      <th>2</th>\n",
       "      <td>P01</td>\n",
       "      <td>CON002</td>\n",
       "      <td>control</td>\n",
       "      <td>-0.029041</td>\n",
       "      <td>0.737437</td>\n",
       "      <td>0.026661</td>\n",
       "      <td>0.026073</td>\n",
       "      <td>0.396078</td>\n",
       "      <td>0.036337</td>\n",
       "      <td>0.009080</td>\n",
       "      <td>0.452969</td>\n",
       "      <td>0.045185</td>\n",
       "      <td>0.102221</td>\n",
       "      <td>-0.007340</td>\n",
       "      <td>0.615194</td>\n",
       "      <td>-0.211130</td>\n",
       "    </tr>\n",
       "    <tr>\n",
       "      <th>3</th>\n",
       "      <td>P01</td>\n",
       "      <td>CON021</td>\n",
       "      <td>uncontrol</td>\n",
       "      <td>1.712403</td>\n",
       "      <td>0.742622</td>\n",
       "      <td>-0.083802</td>\n",
       "      <td>0.046214</td>\n",
       "      <td>0.245902</td>\n",
       "      <td>0.003968</td>\n",
       "      <td>0.008121</td>\n",
       "      <td>0.528427</td>\n",
       "      <td>-0.062364</td>\n",
       "      <td>0.064304</td>\n",
       "      <td>0.004910</td>\n",
       "      <td>-0.045979</td>\n",
       "      <td>0.000000</td>\n",
       "    </tr>\n",
       "    <tr>\n",
       "      <th>4</th>\n",
       "      <td>P02</td>\n",
       "      <td>CON003</td>\n",
       "      <td>control</td>\n",
       "      <td>2.271669</td>\n",
       "      <td>0.649230</td>\n",
       "      <td>-0.080691</td>\n",
       "      <td>0.052268</td>\n",
       "      <td>0.176853</td>\n",
       "      <td>0.013468</td>\n",
       "      <td>0.002858</td>\n",
       "      <td>0.464608</td>\n",
       "      <td>-0.067258</td>\n",
       "      <td>0.056004</td>\n",
       "      <td>-0.003538</td>\n",
       "      <td>0.296575</td>\n",
       "      <td>0.118150</td>\n",
       "    </tr>\n",
       "  </tbody>\n",
       "</table>\n",
       "</div>"
      ],
      "text/plain": [
       "  Pair Subject      Group     shock  signNearest  signNear   signFar  \\\n",
       "0  P00  CON001    control  3.863367     0.421400 -0.016414  0.008958   \n",
       "1  P00  CON031  uncontrol  1.134769     0.753854 -0.046420  0.033977   \n",
       "2  P01  CON002    control -0.029041     0.737437  0.026661  0.026073   \n",
       "3  P01  CON021  uncontrol  1.712403     0.742622 -0.083802  0.046214   \n",
       "4  P02  CON003    control  2.271669     0.649230 -0.080691  0.052268   \n",
       "\n",
       "   magNearest   magNear    magFar  signXmagNearest  signXmagNear  signXmagFar  \\\n",
       "0    0.046983  0.030319  0.022981         0.191093     -0.024593     0.075500   \n",
       "1    0.229416  0.010673 -0.024889         0.535462     -0.037987     0.053637   \n",
       "2    0.396078  0.036337  0.009080         0.452969      0.045185     0.102221   \n",
       "3    0.245902  0.003968  0.008121         0.528427     -0.062364     0.064304   \n",
       "4    0.176853  0.013468  0.002858         0.464608     -0.067258     0.056004   \n",
       "\n",
       "   v_motion  block_onset  block_offset  \n",
       "0 -0.025930     0.464878     -0.005874  \n",
       "1 -0.001545     0.089154      0.000000  \n",
       "2 -0.007340     0.615194     -0.211130  \n",
       "3  0.004910    -0.045979      0.000000  \n",
       "4 -0.003538     0.296575      0.118150  "
      ]
     },
     "execution_count": 9,
     "metadata": {},
     "output_type": "execute_result"
    }
   ],
   "source": [
    "df = pd.merge(shock_df,effects_df)\n",
    "print(df.shape)\n",
    "df.head()"
   ]
  },
  {
   "cell_type": "code",
   "execution_count": 10,
   "metadata": {},
   "outputs": [
    {
     "data": {
      "text/html": [
       "<div>\n",
       "<style scoped>\n",
       "    .dataframe tbody tr th:only-of-type {\n",
       "        vertical-align: middle;\n",
       "    }\n",
       "\n",
       "    .dataframe tbody tr th {\n",
       "        vertical-align: top;\n",
       "    }\n",
       "\n",
       "    .dataframe thead th {\n",
       "        text-align: right;\n",
       "    }\n",
       "</style>\n",
       "<table border=\"1\" class=\"dataframe\">\n",
       "  <thead>\n",
       "    <tr style=\"text-align: right;\">\n",
       "      <th></th>\n",
       "      <th>shock</th>\n",
       "      <th>signNearest</th>\n",
       "      <th>signNear</th>\n",
       "      <th>signFar</th>\n",
       "      <th>magNearest</th>\n",
       "      <th>magNear</th>\n",
       "      <th>magFar</th>\n",
       "      <th>signXmagNearest</th>\n",
       "      <th>signXmagNear</th>\n",
       "      <th>signXmagFar</th>\n",
       "      <th>v_motion</th>\n",
       "      <th>block_onset</th>\n",
       "      <th>block_offset</th>\n",
       "    </tr>\n",
       "    <tr>\n",
       "      <th>Pair</th>\n",
       "      <th></th>\n",
       "      <th></th>\n",
       "      <th></th>\n",
       "      <th></th>\n",
       "      <th></th>\n",
       "      <th></th>\n",
       "      <th></th>\n",
       "      <th></th>\n",
       "      <th></th>\n",
       "      <th></th>\n",
       "      <th></th>\n",
       "      <th></th>\n",
       "      <th></th>\n",
       "    </tr>\n",
       "  </thead>\n",
       "  <tbody>\n",
       "    <tr>\n",
       "      <th>P00</th>\n",
       "      <td>-2.728599</td>\n",
       "      <td>0.332454</td>\n",
       "      <td>-0.030006</td>\n",
       "      <td>0.025019</td>\n",
       "      <td>0.182433</td>\n",
       "      <td>-0.019646</td>\n",
       "      <td>-0.047870</td>\n",
       "      <td>0.344369</td>\n",
       "      <td>-0.013394</td>\n",
       "      <td>-0.021863</td>\n",
       "      <td>0.024385</td>\n",
       "      <td>-0.375724</td>\n",
       "      <td>0.005874</td>\n",
       "    </tr>\n",
       "    <tr>\n",
       "      <th>P01</th>\n",
       "      <td>1.741444</td>\n",
       "      <td>0.005185</td>\n",
       "      <td>-0.110462</td>\n",
       "      <td>0.020141</td>\n",
       "      <td>-0.150176</td>\n",
       "      <td>-0.032369</td>\n",
       "      <td>-0.000960</td>\n",
       "      <td>0.075458</td>\n",
       "      <td>-0.107549</td>\n",
       "      <td>-0.037917</td>\n",
       "      <td>0.012250</td>\n",
       "      <td>-0.661173</td>\n",
       "      <td>0.211130</td>\n",
       "    </tr>\n",
       "    <tr>\n",
       "      <th>P02</th>\n",
       "      <td>1.019240</td>\n",
       "      <td>-0.975134</td>\n",
       "      <td>0.134884</td>\n",
       "      <td>-0.070751</td>\n",
       "      <td>-0.072512</td>\n",
       "      <td>-0.018990</td>\n",
       "      <td>0.027447</td>\n",
       "      <td>-0.682575</td>\n",
       "      <td>0.119236</td>\n",
       "      <td>-0.074548</td>\n",
       "      <td>0.058823</td>\n",
       "      <td>0.536188</td>\n",
       "      <td>-0.118150</td>\n",
       "    </tr>\n",
       "    <tr>\n",
       "      <th>P03</th>\n",
       "      <td>1.826244</td>\n",
       "      <td>-0.565278</td>\n",
       "      <td>0.067748</td>\n",
       "      <td>-0.069259</td>\n",
       "      <td>-0.466386</td>\n",
       "      <td>-0.025679</td>\n",
       "      <td>-0.014002</td>\n",
       "      <td>-0.284479</td>\n",
       "      <td>0.054142</td>\n",
       "      <td>0.012347</td>\n",
       "      <td>-0.010160</td>\n",
       "      <td>-0.727510</td>\n",
       "      <td>0.040672</td>\n",
       "    </tr>\n",
       "    <tr>\n",
       "      <th>P04</th>\n",
       "      <td>-0.052512</td>\n",
       "      <td>-0.055575</td>\n",
       "      <td>0.019098</td>\n",
       "      <td>-0.023681</td>\n",
       "      <td>0.012879</td>\n",
       "      <td>-0.040897</td>\n",
       "      <td>0.026550</td>\n",
       "      <td>-0.048397</td>\n",
       "      <td>0.003403</td>\n",
       "      <td>0.037387</td>\n",
       "      <td>0.011232</td>\n",
       "      <td>-0.541654</td>\n",
       "      <td>-0.181490</td>\n",
       "    </tr>\n",
       "  </tbody>\n",
       "</table>\n",
       "</div>"
      ],
      "text/plain": [
       "         shock  signNearest  signNear   signFar  magNearest   magNear  \\\n",
       "Pair                                                                    \n",
       "P00  -2.728599     0.332454 -0.030006  0.025019    0.182433 -0.019646   \n",
       "P01   1.741444     0.005185 -0.110462  0.020141   -0.150176 -0.032369   \n",
       "P02   1.019240    -0.975134  0.134884 -0.070751   -0.072512 -0.018990   \n",
       "P03   1.826244    -0.565278  0.067748 -0.069259   -0.466386 -0.025679   \n",
       "P04  -0.052512    -0.055575  0.019098 -0.023681    0.012879 -0.040897   \n",
       "\n",
       "        magFar  signXmagNearest  signXmagNear  signXmagFar  v_motion  \\\n",
       "Pair                                                                   \n",
       "P00  -0.047870         0.344369     -0.013394    -0.021863  0.024385   \n",
       "P01  -0.000960         0.075458     -0.107549    -0.037917  0.012250   \n",
       "P02   0.027447        -0.682575      0.119236    -0.074548  0.058823   \n",
       "P03  -0.014002        -0.284479      0.054142     0.012347 -0.010160   \n",
       "P04   0.026550        -0.048397      0.003403     0.037387  0.011232   \n",
       "\n",
       "      block_onset  block_offset  \n",
       "Pair                             \n",
       "P00     -0.375724      0.005874  \n",
       "P01     -0.661173      0.211130  \n",
       "P02      0.536188     -0.118150  \n",
       "P03     -0.727510      0.040672  \n",
       "P04     -0.541654     -0.181490  "
      ]
     },
     "execution_count": 10,
     "metadata": {},
     "output_type": "execute_result"
    }
   ],
   "source": [
    "paired_df = df[df['Group']=='uncontrol'].set_index(['Pair']).drop(['Subject','Group'],axis=1) - df[df['Group']=='control'].set_index(['Pair']).drop(['Subject','Group'],axis=1)\n",
    "paired_df.head()"
   ]
  },
  {
   "cell_type": "code",
   "execution_count": 11,
   "metadata": {},
   "outputs": [
    {
     "data": {
      "text/plain": [
       "<matplotlib.axes._subplots.AxesSubplot at 0x7f571a61e7b8>"
      ]
     },
     "execution_count": 11,
     "metadata": {},
     "output_type": "execute_result"
    },
    {
     "data": {
      "image/png": "[encoded data removed]",
      "text/plain": [
       "<Figure size 432x288 with 1 Axes>"
      ]
     },
     "metadata": {
      "needs_background": "light"
     },
     "output_type": "display_data"
    }
   ],
   "source": [
    "sns.distplot(paired_df['shock'],bins=10)"
   ]
  },
  {
   "cell_type": "code",
   "execution_count": 12,
   "metadata": {},
   "outputs": [
    {
     "data": {
      "text/plain": [
       "Ttest_1sampResult(statistic=-0.059497828734476586, pvalue=0.952767413791141)"
      ]
     },
     "execution_count": 12,
     "metadata": {},
     "output_type": "execute_result"
    }
   ],
   "source": [
    "from scipy.stats import ttest_rel, ttest_ind, ttest_1samp\n",
    "ttest_1samp(paired_df['shock'],0)"
   ]
  },
  {
   "cell_type": "code",
   "execution_count": 13,
   "metadata": {},
   "outputs": [],
   "source": [
    "results_df = pd.DataFrame(columns=['effect','uncontrol vs. control\\n(tstat, p-value)','uncontrol\\n(tstat, p-value)','control\\n(tstat, p-value)'])\n",
    "for effect in effects + ['shock']:\n",
    "    if effect not in ['v_motion','block_onset','block_offset']:\n",
    "        uncon = tuple(np.round(a,decimals=3) for a in ttest_1samp(df[df['Group']=='uncontrol'][effect],0))\n",
    "        con = tuple(np.round(a,decimals=3) for a in ttest_1samp(df[df['Group']=='control'][effect],0))\n",
    "        uncon_v_con = tuple(np.round(a,decimals=3) for a in ttest_rel(df[df['Group']=='uncontrol'][effect],df[df['Group']=='control'][effect]))\n",
    "\n",
    "        tmp_df= pd.DataFrame([effect,uncon_v_con,uncon,con],index=['effect','uncontrol vs. control\\n(tstat, p-value)','uncontrol\\n(tstat, p-value)','control\\n(tstat, p-value)']).T\n",
    "        results_df = pd.concat([results_df,tmp_df],axis=0)"
   ]
  },
  {
   "cell_type": "code",
   "execution_count": 14,
   "metadata": {},
   "outputs": [],
   "source": [
    "results_df['effect'] = results_df['effect'].apply(lambda string: string.replace('sign','Direction'))\n",
    "results_df['effect'] = results_df['effect'].apply(lambda string: string.replace('mag','Speed'))"
   ]
  },
  {
   "cell_type": "code",
   "execution_count": 15,
   "metadata": {},
   "outputs": [
    {
     "data": {
      "text/html": [
       "<div>\n",
       "<style scoped>\n",
       "    .dataframe tbody tr th:only-of-type {\n",
       "        vertical-align: middle;\n",
       "    }\n",
       "\n",
       "    .dataframe tbody tr th {\n",
       "        vertical-align: top;\n",
       "    }\n",
       "\n",
       "    .dataframe thead th {\n",
       "        text-align: right;\n",
       "    }\n",
       "</style>\n",
       "<table border=\"1\" class=\"dataframe\">\n",
       "  <thead>\n",
       "    <tr style=\"text-align: right;\">\n",
       "      <th></th>\n",
       "      <th>effect</th>\n",
       "      <th>uncontrol vs. control\n",
       "(tstat, p-value)</th>\n",
       "      <th>uncontrol\n",
       "(tstat, p-value)</th>\n",
       "      <th>control\n",
       "(tstat, p-value)</th>\n",
       "    </tr>\n",
       "  </thead>\n",
       "  <tbody>\n",
       "    <tr>\n",
       "      <th>0</th>\n",
       "      <td>DirectionNearest</td>\n",
       "      <td>(0.057, 0.955)</td>\n",
       "      <td>(6.561, 0.0)</td>\n",
       "      <td>(6.275, 0.0)</td>\n",
       "    </tr>\n",
       "    <tr>\n",
       "      <th>0</th>\n",
       "      <td>DirectionNear</td>\n",
       "      <td>(-0.798, 0.428)</td>\n",
       "      <td>(-1.717, 0.091)</td>\n",
       "      <td>(-0.733, 0.467)</td>\n",
       "    </tr>\n",
       "    <tr>\n",
       "      <th>0</th>\n",
       "      <td>DirectionFar</td>\n",
       "      <td>(0.602, 0.55)</td>\n",
       "      <td>(-0.992, 0.325)</td>\n",
       "      <td>(-1.778, 0.081)</td>\n",
       "    </tr>\n",
       "    <tr>\n",
       "      <th>0</th>\n",
       "      <td>SpeedNearest</td>\n",
       "      <td>(-0.75, 0.456)</td>\n",
       "      <td>(1.715, 0.092)</td>\n",
       "      <td>(2.978, 0.004)</td>\n",
       "    </tr>\n",
       "    <tr>\n",
       "      <th>0</th>\n",
       "      <td>SpeedNear</td>\n",
       "      <td>(-2.692, 0.009)</td>\n",
       "      <td>(1.722, 0.091)</td>\n",
       "      <td>(5.651, 0.0)</td>\n",
       "    </tr>\n",
       "    <tr>\n",
       "      <th>0</th>\n",
       "      <td>SpeedFar</td>\n",
       "      <td>(-0.078, 0.938)</td>\n",
       "      <td>(3.163, 0.003)</td>\n",
       "      <td>(3.858, 0.0)</td>\n",
       "    </tr>\n",
       "    <tr>\n",
       "      <th>0</th>\n",
       "      <td>DirectionXSpeedNearest</td>\n",
       "      <td>(0.064, 0.949)</td>\n",
       "      <td>(6.277, 0.0)</td>\n",
       "      <td>(6.948, 0.0)</td>\n",
       "    </tr>\n",
       "    <tr>\n",
       "      <th>0</th>\n",
       "      <td>DirectionXSpeedNear</td>\n",
       "      <td>(-0.244, 0.808)</td>\n",
       "      <td>(-0.074, 0.941)</td>\n",
       "      <td>(0.258, 0.797)</td>\n",
       "    </tr>\n",
       "    <tr>\n",
       "      <th>0</th>\n",
       "      <td>DirectionXSpeedFar</td>\n",
       "      <td>(-0.48, 0.633)</td>\n",
       "      <td>(10.75, 0.0)</td>\n",
       "      <td>(10.827, 0.0)</td>\n",
       "    </tr>\n",
       "    <tr>\n",
       "      <th>0</th>\n",
       "      <td>shock</td>\n",
       "      <td>(-0.059, 0.953)</td>\n",
       "      <td>(15.103, 0.0)</td>\n",
       "      <td>(16.048, 0.0)</td>\n",
       "    </tr>\n",
       "  </tbody>\n",
       "</table>\n",
       "</div>"
      ],
      "text/plain": [
       "                   effect uncontrol vs. control\\n(tstat, p-value)  \\\n",
       "0        DirectionNearest                          (0.057, 0.955)   \n",
       "0           DirectionNear                         (-0.798, 0.428)   \n",
       "0            DirectionFar                           (0.602, 0.55)   \n",
       "0            SpeedNearest                          (-0.75, 0.456)   \n",
       "0               SpeedNear                         (-2.692, 0.009)   \n",
       "0                SpeedFar                         (-0.078, 0.938)   \n",
       "0  DirectionXSpeedNearest                          (0.064, 0.949)   \n",
       "0     DirectionXSpeedNear                         (-0.244, 0.808)   \n",
       "0      DirectionXSpeedFar                          (-0.48, 0.633)   \n",
       "0                   shock                         (-0.059, 0.953)   \n",
       "\n",
       "  uncontrol\\n(tstat, p-value) control\\n(tstat, p-value)  \n",
       "0                (6.561, 0.0)              (6.275, 0.0)  \n",
       "0             (-1.717, 0.091)           (-0.733, 0.467)  \n",
       "0             (-0.992, 0.325)           (-1.778, 0.081)  \n",
       "0              (1.715, 0.092)            (2.978, 0.004)  \n",
       "0              (1.722, 0.091)              (5.651, 0.0)  \n",
       "0              (3.163, 0.003)              (3.858, 0.0)  \n",
       "0                (6.277, 0.0)              (6.948, 0.0)  \n",
       "0             (-0.074, 0.941)            (0.258, 0.797)  \n",
       "0                (10.75, 0.0)             (10.827, 0.0)  \n",
       "0               (15.103, 0.0)             (16.048, 0.0)  "
      ]
     },
     "execution_count": 15,
     "metadata": {},
     "output_type": "execute_result"
    }
   ],
   "source": [
    "results_df"
   ]
  },
  {
   "cell_type": "markdown",
   "metadata": {},
   "source": [
    "# **Shock**\n",
    "## **SCR response distributions of the two groups**\n",
    "- Compare the distributions\n",
    "    - Two (Independent) Sample Test\n",
    "    - Related Sample Test\n",
    "\n",
    "### **Two (Independent) Sample Test**\n",
    "\n",
    "$$H_{0}:\\mu_{SCR_{uncontrol}} \\neq \\mu_{SCR_{control}}$$"
   ]
  },
  {
   "cell_type": "code",
   "execution_count": 17,
   "metadata": {},
   "outputs": [
    {
     "data": {
      "image/png": "[encoded data removed]",
      "text/plain": [
       "<Figure size 432x288 with 1 Axes>"
      ]
     },
     "metadata": {
      "needs_background": "light"
     },
     "output_type": "display_data"
    }
   ],
   "source": [
    "uncon_scr = shock_df[shock_df['Group']=='uncontrol']['shock'].values\n",
    "con_scr = shock_df[shock_df['Group']=='control']['shock'].values\n",
    "\n",
    "_=plt.hist(uncon_scr,alpha=0.5,color=cmap.colors[0],label='uncontrol')\n",
    "_=plt.hist(con_scr,alpha=0.5,color=cmap.colors[1],label='control')\n",
    "_=plt.title('SCR responses')\n",
    "_=plt.legend()"
   ]
  },
  {
   "cell_type": "code",
   "execution_count": 18,
   "metadata": {},
   "outputs": [],
   "source": [
    "def ind_samp_perm_test(treatment, control, n_perms):\n",
    "    n, k, samp_dist = len(treatment), 0, []\n",
    "    real_obs = np.abs(np.mean(treatment) - np.mean(control))\n",
    "    zs = np.concatenate([treatment, control])\n",
    "    for j in range(n_perms):\n",
    "        np.random.shuffle(zs)\n",
    "        obs = np.mean(zs[:n]) - np.mean(zs[n:])\n",
    "        samp_dist.append(obs)\n",
    "        k += real_obs < abs(obs)\n",
    "    return (samp_dist,(k+1)/(n_perms+1))"
   ]
  },
  {
   "cell_type": "code",
   "execution_count": 20,
   "metadata": {},
   "outputs": [
    {
     "name": "stdout",
     "output_type": "stream",
     "text": [
      "Independent samples ttest p-value: 0.955\n",
      "Independent sample permutation test p-value: 0.954\n"
     ]
    }
   ],
   "source": [
    "print('Independent samples ttest p-value: %.3f' %(ttest_ind(uncon_scr,con_scr)[1]))\n",
    "samp_dist, p_val = ind_samp_perm_test(uncon_scr,con_scr,50000)\n",
    "print('Independent sample permutation test p-value: %.3f' %(p_val))"
   ]
  },
  {
   "cell_type": "code",
   "execution_count": 21,
   "metadata": {},
   "outputs": [
    {
     "data": {
      "text/plain": [
       "Text(0.5, 1.0, 'Two sample permutation test p-value: 0.954')"
      ]
     },
     "execution_count": 21,
     "metadata": {},
     "output_type": "execute_result"
    },
    {
     "data": {
      "image/png": "[encoded data removed]",
      "text/plain": [
       "<Figure size 432x288 with 1 Axes>"
      ]
     },
     "metadata": {
      "needs_background": "light"
     },
     "output_type": "display_data"
    }
   ],
   "source": [
    "_=plt.hist(samp_dist,bins=25,alpha=0.45)\n",
    "plt.axvline(x=np.mean(uncon_scr) - np.mean(con_scr),c='red',label='Observed mean')\n",
    "plt.axvline(x=np.mean(samp_dist),c='blue',label='Mean of \\nsampling dsitribution')\n",
    "plt.annotate('Observed mean',\n",
    "             xy=(np.mean(uncon_scr) - np.mean(con_scr),6000),\n",
    "             xytext=(-0.75,5000), arrowprops={'color':'red','width':0.5,\n",
    "                                              'headwidth':10,\n",
    "                                              'headlength':10},\n",
    "             fontsize=12)\n",
    "plt.annotate('Mean of \\nsampling dsitribution',\n",
    "             xy=(np.mean(samp_dist),6000),\n",
    "             xytext=(0.25,5000), arrowprops={'color':'blue','width':0.5,\n",
    "                                              'headwidth':10,\n",
    "                                              'headlength':10},\n",
    "             fontsize=12)\n",
    "plt.title('Two sample permutation test p-value: %.3f' %(p_val))"
   ]
  },
  {
   "cell_type": "markdown",
   "metadata": {},
   "source": [
    "### **Paired Sample Test**\n",
    "$$H_{0}: \\mu_{SCR_{uncontol-control}} = 0$$"
   ]
  },
  {
   "cell_type": "code",
   "execution_count": 22,
   "metadata": {},
   "outputs": [],
   "source": [
    "def rel_samp_perm_test(treatment,control,n_perms):\n",
    "    n, k, samp_dist = len(treatment), 0, []\n",
    "    alt_obs = abs(np.mean(np.subtract(treatment,control)))\n",
    "    scr = np.stack([treatment,control],axis=0) # making a 2 X num_samples array\n",
    "    for j in range(n_perms):\n",
    "        null_obs = np.mean(np.array([np.random.choice([-1,1]) for i in range(n)])*(scr[0,:]-scr[1,:]))\n",
    "        samp_dist.append(null_obs)\n",
    "        k += abs(null_obs) > alt_obs\n",
    "        \n",
    "    return(samp_dist,(k+1)/(n_perms+1))"
   ]
  },
  {
   "cell_type": "code",
   "execution_count": 23,
   "metadata": {},
   "outputs": [
    {
     "name": "stdout",
     "output_type": "stream",
     "text": [
      "Related Samples T-test p-value: 0.953\n",
      "Related Samples permutation test p-value: 0.953\n"
     ]
    }
   ],
   "source": [
    "print('Related Samples T-test p-value: %.3f' %(ttest_rel(uncon_scr,con_scr)[1]))\n",
    "samp_dist, p_val = rel_samp_perm_test(uncon_scr,con_scr,50000)\n",
    "print('Related Samples permutation test p-value: %.3f' %(p_val))"
   ]
  },
  {
   "cell_type": "code",
   "execution_count": 24,
   "metadata": {},
   "outputs": [
    {
     "data": {
      "image/png": "[encoded data removed]",
      "text/plain": [
       "<Figure size 432x288 with 1 Axes>"
      ]
     },
     "metadata": {
      "needs_background": "light"
     },
     "output_type": "display_data"
    }
   ],
   "source": [
    "_=plt.hist(samp_dist,bins=25,alpha=0.45)\n",
    "plt.axvline(x=np.mean(uncon_scr-con_scr),c='red',label='Observed mean')\n",
    "plt.axvline(x=np.mean(samp_dist),c='blue',label='Mean of \\nsampling dsitribution')\n",
    "plt.annotate('Observed mean',\n",
    "             xy=(np.mean(uncon_scr-con_scr),6000),\n",
    "             xytext=(-0.75,5000), arrowprops={'color':'red','width':0.5,\n",
    "                                              'headwidth':10,\n",
    "                                              'headlength':10},\n",
    "             fontsize=12)\n",
    "_=plt.annotate('Mean of \\nsampling dsitribution',\n",
    "             xy=(np.mean(samp_dist),6000),\n",
    "             xytext=(0.25,5000), arrowprops={'color':'blue','width':0.5,\n",
    "                                              'headwidth':10,\n",
    "                                              'headlength':10},\n",
    "             fontsize=12)\n",
    "_=plt.title('Related Samples permutation test p-value: %.3f' %(p_val))"
   ]
  },
  {
   "cell_type": "markdown",
   "metadata": {},
   "source": [
    "# **SCR vs. Right BST Response**"
   ]
  },
  {
   "cell_type": "code",
   "execution_count": 41,
   "metadata": {},
   "outputs": [
    {
     "name": "stdout",
     "output_type": "stream",
     "text": [
      "roi_df size:  (122, 4)\n"
     ]
    },
    {
     "data": {
      "text/html": [
       "<div>\n",
       "<style scoped>\n",
       "    .dataframe tbody tr th:only-of-type {\n",
       "        vertical-align: middle;\n",
       "    }\n",
       "\n",
       "    .dataframe tbody tr th {\n",
       "        vertical-align: top;\n",
       "    }\n",
       "\n",
       "    .dataframe thead th {\n",
       "        text-align: right;\n",
       "    }\n",
       "</style>\n",
       "<table border=\"1\" class=\"dataframe\">\n",
       "  <thead>\n",
       "    <tr style=\"text-align: right;\">\n",
       "      <th></th>\n",
       "      <th>Pair</th>\n",
       "      <th>Subject</th>\n",
       "      <th>Group</th>\n",
       "      <th>rBNST</th>\n",
       "    </tr>\n",
       "  </thead>\n",
       "  <tbody>\n",
       "    <tr>\n",
       "      <th>0</th>\n",
       "      <td>P00</td>\n",
       "      <td>CON001</td>\n",
       "      <td>control</td>\n",
       "      <td>0.640981</td>\n",
       "    </tr>\n",
       "    <tr>\n",
       "      <th>1</th>\n",
       "      <td>P00</td>\n",
       "      <td>CON031</td>\n",
       "      <td>uncontrol</td>\n",
       "      <td>1.259554</td>\n",
       "    </tr>\n",
       "    <tr>\n",
       "      <th>2</th>\n",
       "      <td>P01</td>\n",
       "      <td>CON002</td>\n",
       "      <td>control</td>\n",
       "      <td>0.757035</td>\n",
       "    </tr>\n",
       "    <tr>\n",
       "      <th>3</th>\n",
       "      <td>P01</td>\n",
       "      <td>CON021</td>\n",
       "      <td>uncontrol</td>\n",
       "      <td>0.063796</td>\n",
       "    </tr>\n",
       "    <tr>\n",
       "      <th>4</th>\n",
       "      <td>P02</td>\n",
       "      <td>CON003</td>\n",
       "      <td>control</td>\n",
       "      <td>0.583921</td>\n",
       "    </tr>\n",
       "  </tbody>\n",
       "</table>\n",
       "</div>"
      ],
      "text/plain": [
       "  Pair Subject      Group     rBNST\n",
       "0  P00  CON001    control  0.640981\n",
       "1  P00  CON031  uncontrol  1.259554\n",
       "2  P01  CON002    control  0.757035\n",
       "3  P01  CON021  uncontrol  0.063796\n",
       "4  P02  CON003    control  0.583921"
      ]
     },
     "execution_count": 41,
     "metadata": {},
     "output_type": "execute_result"
    }
   ],
   "source": [
    "# Load ROI analysis betas\n",
    "roi_df = pd.read_csv('Individual_betas_from_ROI_analysis_S_buttonPress.csv')\n",
    "roi_df = roi_df[roi_df['ROI']=='rBNST']\n",
    "roi_df.drop('ROI',axis=1,inplace=True)\n",
    "roi_df.rename(columns={'beta':'rBNST'},inplace=True)\n",
    "print('roi_df size: ',roi_df.shape)\n",
    "roi_df.head()"
   ]
  },
  {
   "cell_type": "code",
   "execution_count": 42,
   "metadata": {},
   "outputs": [
    {
     "data": {
      "text/html": [
       "<div>\n",
       "<style scoped>\n",
       "    .dataframe tbody tr th:only-of-type {\n",
       "        vertical-align: middle;\n",
       "    }\n",
       "\n",
       "    .dataframe tbody tr th {\n",
       "        vertical-align: top;\n",
       "    }\n",
       "\n",
       "    .dataframe thead th {\n",
       "        text-align: right;\n",
       "    }\n",
       "</style>\n",
       "<table border=\"1\" class=\"dataframe\">\n",
       "  <thead>\n",
       "    <tr style=\"text-align: right;\">\n",
       "      <th></th>\n",
       "      <th>Pair</th>\n",
       "      <th>Subject</th>\n",
       "      <th>Group</th>\n",
       "      <th>shock</th>\n",
       "    </tr>\n",
       "  </thead>\n",
       "  <tbody>\n",
       "    <tr>\n",
       "      <th>0</th>\n",
       "      <td>P00</td>\n",
       "      <td>CON001</td>\n",
       "      <td>control</td>\n",
       "      <td>3.863367</td>\n",
       "    </tr>\n",
       "    <tr>\n",
       "      <th>1</th>\n",
       "      <td>P00</td>\n",
       "      <td>CON031</td>\n",
       "      <td>uncontrol</td>\n",
       "      <td>1.134769</td>\n",
       "    </tr>\n",
       "    <tr>\n",
       "      <th>2</th>\n",
       "      <td>P01</td>\n",
       "      <td>CON002</td>\n",
       "      <td>control</td>\n",
       "      <td>-0.029041</td>\n",
       "    </tr>\n",
       "    <tr>\n",
       "      <th>3</th>\n",
       "      <td>P01</td>\n",
       "      <td>CON021</td>\n",
       "      <td>uncontrol</td>\n",
       "      <td>1.712403</td>\n",
       "    </tr>\n",
       "    <tr>\n",
       "      <th>4</th>\n",
       "      <td>P02</td>\n",
       "      <td>CON003</td>\n",
       "      <td>control</td>\n",
       "      <td>2.271669</td>\n",
       "    </tr>\n",
       "  </tbody>\n",
       "</table>\n",
       "</div>"
      ],
      "text/plain": [
       "  Pair Subject      Group     shock\n",
       "0  P00  CON001    control  3.863367\n",
       "1  P00  CON031  uncontrol  1.134769\n",
       "2  P01  CON002    control -0.029041\n",
       "3  P01  CON021  uncontrol  1.712403\n",
       "4  P02  CON003    control  2.271669"
      ]
     },
     "execution_count": 42,
     "metadata": {},
     "output_type": "execute_result"
    }
   ],
   "source": [
    "shock_df.head()"
   ]
  },
  {
   "cell_type": "code",
   "execution_count": 45,
   "metadata": {},
   "outputs": [],
   "source": [
    "df = pd.merge(shock_df,roi_df)"
   ]
  },
  {
   "cell_type": "code",
   "execution_count": 52,
   "metadata": {},
   "outputs": [
    {
     "data": {
      "text/plain": [
       "Text(0, 0.5, 'Right BST response')"
      ]
     },
     "execution_count": 52,
     "metadata": {},
     "output_type": "execute_result"
    },
    {
     "data": {
      "image/png": "[encoded data removed]",
      "text/plain": [
       "<Figure size 432x288 with 1 Axes>"
      ]
     },
     "metadata": {
      "needs_background": "light"
     },
     "output_type": "display_data"
    }
   ],
   "source": [
    "sns.regplot(x='shock',y='rBNST', data = df[df['Group']=='control'],color=cmap.colors[1],\n",
    "                scatter_kws= {'edgecolors':'black','s':50,'alpha':0.5,'color':cmap.colors[1]},label='control',robust=True)\n",
    "\n",
    "sns.regplot(x='shock',y='rBNST', data = df[df['Group']=='uncontrol'],color=cmap.colors[0],\n",
    "                scatter_kws= {'edgecolors':'black','s':50,'alpha':0.5,'color':cmap.colors[0]},label='control',robust=True)\n",
    "plt.xlabel('Skin conductance response')\n",
    "plt.ylabel('Right BST response')"
   ]
  },
  {
   "cell_type": "code",
   "execution_count": null,
   "metadata": {},
   "outputs": [],
   "source": []
  }
 ],
 "metadata": {
  "kernelspec": {
   "display_name": "Python 3",
   "language": "python",
   "name": "python3"
  },
  "language_info": {
   "codemirror_mode": {
    "name": "ipython",
    "version": 3
   },
   "file_extension": ".py",
   "mimetype": "text/x-python",
   "name": "python",
   "nbconvert_exporter": "python",
   "pygments_lexer": "ipython3",
   "version": "3.7.3"
  }
 },
 "nbformat": 4,
 "nbformat_minor": 4
}
