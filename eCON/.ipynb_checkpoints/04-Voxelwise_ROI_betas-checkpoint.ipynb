{
 "cells": [
  {
   "cell_type": "code",
   "execution_count": 1,
   "metadata": {},
   "outputs": [
    {
     "data": {
      "text/html": [
       "<script>\n",
       "code_show=true; \n",
       "function code_toggle() {\n",
       " if (code_show){\n",
       " $('div.input').hide();\n",
       " } else {\n",
       " $('div.input').show();\n",
       " }\n",
       " code_show = !code_show\n",
       "} \n",
       "$( document ).ready(code_toggle);\n",
       "</script>\n",
       "<form action=\"javascript:code_toggle()\"><input type=\"submit\" value=\"Click here to toggle on/off the raw code.\"></form>"
      ],
      "text/plain": [
       "<IPython.core.display.HTML object>"
      ]
     },
     "execution_count": 1,
     "metadata": {},
     "output_type": "execute_result"
    }
   ],
   "source": [
    "from IPython.display import HTML\n",
    "\n",
    "HTML('''<script>\n",
    "code_show=true; \n",
    "function code_toggle() {\n",
    " if (code_show){\n",
    " $('div.input').hide();\n",
    " } else {\n",
    " $('div.input').show();\n",
    " }\n",
    " code_show = !code_show\n",
    "} \n",
    "$( document ).ready(code_toggle);\n",
    "</script>\n",
    "<form action=\"javascript:code_toggle()\"><input type=\"submit\" value=\"Click here to toggle on/off the raw code.\"></form>''')\n"
   ]
  },
  {
   "cell_type": "code",
   "execution_count": 1,
   "metadata": {},
   "outputs": [],
   "source": [
    "import numpy as np\n",
    "import pandas as pd\n",
    "\n",
    "import os\n",
    "from os.path import join, basename, dirname, curdir"
   ]
  },
  {
   "cell_type": "code",
   "execution_count": 2,
   "metadata": {},
   "outputs": [],
   "source": [
    "bucket_path = '../../dataset/results_ShockCensored/{subj}/{group}lable/splitted_regs/voxelwise/{subj}_{roi}.1D'\n",
    "yoked = pd.read_excel('../../onsetdir/CON_yoked_table.xlsx')\n",
    "yoked = yoked.query('use == 1')"
   ]
  },
  {
   "cell_type": "code",
   "execution_count": 3,
   "metadata": {},
   "outputs": [],
   "source": [
    "main_df = pd.DataFrame()\n",
    "for m, row in yoked.iterrows():\n",
    "    for roi in 'R-vAI R-dAI L-vAI L-dAI'.split():\n",
    "        control = np.loadtxt(bucket_path.format(subj=row['control'],group='control',roi=roi))\n",
    "        uncontrol = np.loadtxt(bucket_path.format(subj=row['uncontrol'],group='uncontrol',roi=roi))\n",
    "        diff=uncontrol-control\n",
    "        vox_name = [roi+'-{:03d}'.format(i) for i in range(diff.shape[0])]\n",
    "        tmp_df = pd.DataFrame(diff,columns=['proxNearest','proxFar','dirNearest','dirFar'])\n",
    "        tmp_df['PairID'] = 'P{:02d}'.format(m)\n",
    "        tmp_df['ROI'] = vox_name\n",
    "        main_df = pd.concat([main_df,tmp_df],axis=0)"
   ]
  },
  {
   "cell_type": "code",
   "execution_count": 4,
   "metadata": {},
   "outputs": [],
   "source": [
    "main_df.to_csv('emoprox2_anterior_insula.csv',sep='\\t',float_format='%.6f',index=False)"
   ]
  },
  {
   "cell_type": "code",
   "execution_count": null,
   "metadata": {},
   "outputs": [],
   "source": []
  },
  {
   "cell_type": "code",
   "execution_count": null,
   "metadata": {},
   "outputs": [],
   "source": []
  }
 ],
 "metadata": {
  "kernelspec": {
   "display_name": "Python 3",
   "language": "python",
   "name": "python3"
  },
  "language_info": {
   "codemirror_mode": {
    "name": "ipython",
    "version": 3
   },
   "file_extension": ".py",
   "mimetype": "text/x-python",
   "name": "python",
   "nbconvert_exporter": "python",
   "pygments_lexer": "ipython3",
   "version": "3.7.3"
  }
 },
 "nbformat": 4,
 "nbformat_minor": 2
}
