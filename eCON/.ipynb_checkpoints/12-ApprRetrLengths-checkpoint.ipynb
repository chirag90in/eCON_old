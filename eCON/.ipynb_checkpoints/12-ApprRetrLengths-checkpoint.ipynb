{
 "cells": [
  {
   "cell_type": "code",
   "execution_count": 7,
   "metadata": {},
   "outputs": [],
   "source": [
    "import numpy as np\n",
    "\n",
    "import seaborn as sns; sns.set()\n",
    "import matplotlib.pyplot as plt\n",
    "%matplotlib inline"
   ]
  },
  {
   "cell_type": "code",
   "execution_count": 8,
   "metadata": {},
   "outputs": [],
   "source": [
    "appr = '/data/bswift-1/Pessoa_Lab/eCON/dataset/preproc2/CON001/splitted_regs_fancy/CON001_closeAllApprMR.txt'\n",
    "retr = '/data/bswift-1/Pessoa_Lab/eCON/dataset/preproc2/CON001/splitted_regs_fancy/CON001_closeAllRetrMR.txt'"
   ]
  },
  {
   "cell_type": "code",
   "execution_count": 9,
   "metadata": {},
   "outputs": [],
   "source": [
    "with open(appr,'r') as f:\n",
    "    appr = f.readlines()\n",
    "    \n",
    "with open(retr,'r') as f:\n",
    "    retr = f.readlines()\n",
    "    "
   ]
  },
  {
   "cell_type": "code",
   "execution_count": 40,
   "metadata": {},
   "outputs": [],
   "source": [
    "appr_durs = []\n",
    "for line in appr:\n",
    "    appr_durs.append([float(kk.split(':')[1]) for kk in line.split()])\n",
    "    \n",
    "retr_durs = []\n",
    "for line in retr:\n",
    "    retr_durs.append([float(kk.split(':')[1]) for kk in line.split()])"
   ]
  },
  {
   "cell_type": "code",
   "execution_count": 41,
   "metadata": {},
   "outputs": [
    {
     "data": {
      "image/png": "[encoded data removed]",
      "text/plain": [
       "<Figure size 720x360 with 2 Axes>"
      ]
     },
     "metadata": {
      "needs_background": "light"
     },
     "output_type": "display_data"
    }
   ],
   "source": [
    "plt.figure(figsize=(10,5))\n",
    "plt.subplot(1,2,1)\n",
    "_=plt.hist([line for line in appr_durs])\n",
    "_=plt.title('Approach lengths (sec.)')\n",
    "_=plt.xlabel('Length (sec.)')\n",
    "_=plt.ylabel('counts')\n",
    "plt.subplot(1,2,2)\n",
    "_=plt.hist([line for line in retr_durs])\n",
    "_=plt.title('Retreat lengths (sec.)')\n",
    "_=plt.xlabel('Length (sec.)')\n",
    "_=plt.ylabel('counts')"
   ]
  },
  {
   "cell_type": "code",
   "execution_count": 23,
   "metadata": {},
   "outputs": [],
   "source": [
    "appr_durs = np.asarray(appr_durs[0])\n",
    "retr_durs = np.asarray(retr_durs[0])"
   ]
  },
  {
   "cell_type": "code",
   "execution_count": 27,
   "metadata": {},
   "outputs": [
    {
     "name": "stdout",
     "output_type": "stream",
     "text": [
      "Number of approach and retreat events greater than 5 seconds: 19, 17\n"
     ]
    }
   ],
   "source": [
    "print('Number of approach and retreat events greater than 5 seconds: %i, %i' %(len(appr_durs[appr_durs>=2]),len(retr_durs[retr_durs>=2])))"
   ]
  },
  {
   "cell_type": "code",
   "execution_count": 33,
   "metadata": {},
   "outputs": [
    {
     "data": {
      "text/plain": [
       "17"
      ]
     },
     "execution_count": 33,
     "metadata": {},
     "output_type": "execute_result"
    }
   ],
   "source": [
    "len(retr_durs[retr_durs>=2])"
   ]
  },
  {
   "cell_type": "code",
   "execution_count": 31,
   "metadata": {},
   "outputs": [
    {
     "data": {
      "text/plain": [
       "array([8.243, 8.371, 6.811, 7.643, 8.071, 8.074, 7.175, 7.646, 8.404,\n",
       "       7.667, 8.473, 8.073, 8.007, 7.407, 7.604, 7.268, 8.856])"
      ]
     },
     "execution_count": 31,
     "metadata": {},
     "output_type": "execute_result"
    }
   ],
   "source": [
    "retr_durs"
   ]
  },
  {
   "cell_type": "code",
   "execution_count": 37,
   "metadata": {},
   "outputs": [
    {
     "data": {
      "text/plain": [
       "19"
      ]
     },
     "execution_count": 37,
     "metadata": {},
     "output_type": "execute_result"
    }
   ],
   "source": [
    "len(appr_durs[appr_durs>=2])"
   ]
  },
  {
   "cell_type": "code",
   "execution_count": null,
   "metadata": {},
   "outputs": [],
   "source": []
  }
 ],
 "metadata": {
  "kernelspec": {
   "display_name": "Python 3",
   "language": "python",
   "name": "python3"
  },
  "language_info": {
   "codemirror_mode": {
    "name": "ipython",
    "version": 3
   },
   "file_extension": ".py",
   "mimetype": "text/x-python",
   "name": "python",
   "nbconvert_exporter": "python",
   "pygments_lexer": "ipython3",
   "version": "3.7.3"
  }
 },
 "nbformat": 4,
 "nbformat_minor": 4
}
