{
 "cells": [
  {
   "cell_type": "code",
   "execution_count": 1,
   "metadata": {},
   "outputs": [
    {
     "data": {
      "text/html": [
       "<script>\n",
       "code_show=true; \n",
       "function code_toggle() {\n",
       " if (code_show){\n",
       " $('div.input').hide();\n",
       " } else {\n",
       " $('div.input').show();\n",
       " }\n",
       " code_show = !code_show\n",
       "} \n",
       "$( document ).ready(code_toggle);\n",
       "</script>\n",
       "<form action=\"javascript:code_toggle()\"><input type=\"submit\" value=\"Click here to toggle on/off the raw code.\"></form>"
      ],
      "text/plain": [
       "<IPython.core.display.HTML object>"
      ]
     },
     "execution_count": 1,
     "metadata": {},
     "output_type": "execute_result"
    }
   ],
   "source": [
    "from IPython.display import HTML\n",
    "\n",
    "HTML('''<script>\n",
    "code_show=true; \n",
    "function code_toggle() {\n",
    " if (code_show){\n",
    " $('div.input').hide();\n",
    " } else {\n",
    " $('div.input').show();\n",
    " }\n",
    " code_show = !code_show\n",
    "} \n",
    "$( document ).ready(code_toggle);\n",
    "</script>\n",
    "<form action=\"javascript:code_toggle()\"><input type=\"submit\" value=\"Click here to toggle on/off the raw code.\"></form>''')\n"
   ]
  },
  {
   "cell_type": "code",
   "execution_count": 2,
   "metadata": {},
   "outputs": [],
   "source": [
    "import numpy as np\n",
    "import pandas as pd\n",
    "\n",
    "from os.path import join\n",
    "\n",
    "import seaborn as sns\n",
    "sns.set(font_scale=1.5)\n",
    "import matplotlib.pyplot as plt\n",
    "\n",
    "from statsmodels.stats.outliers_influence import variance_inflation_factor\n",
    "import statsmodels.api as sm\n",
    "\n",
    "%matplotlib inline"
   ]
  },
  {
   "cell_type": "code",
   "execution_count": 3,
   "metadata": {},
   "outputs": [],
   "source": [
    "## Load the State and Trait scores\n",
    "eCON = '/data/bswift-1/Pessoa_Lab/eCON'\n",
    "scores = pd.read_excel(join(eCON,'STAIscores/scores.xlsx'))\n",
    "scores.rename(columns={'SCORING':'TRAIT'},inplace=True)\n",
    "scores.drop(columns=['PAIR SCORE'],inplace=True)\n",
    "scores['SubID'] = scores['SubID'].apply(lambda name: ''.join(name.strip().split(\"_\")))"
   ]
  },
  {
   "cell_type": "code",
   "execution_count": 12,
   "metadata": {},
   "outputs": [],
   "source": [
    "# ROIs to be included in the RBA\n",
    "ROIs = {'old':'rBNST lBNST rdAI rvAI vmPFC PCC1 rPAG lPAG PCC2 ldAI\\\n",
    "                lvAI rPI lPI rCa lCa rPa lPa rVS lVS Amygdala_BLBM_La_L\\\n",
    "                Amygdala_BLBM_La_R Amygdala_CeME_L Amygdala_CeME_R ACC'.split(),\n",
    "        'new':['L Amygdala (BLBM)',\n",
    "               'R Amygdala (BLBM)',\n",
    "               'L Amygdala (CeME)',\n",
    "               'R Amygdala (CeME)',\n",
    "               'L aMCC',\n",
    "               'R aMCC',\n",
    "               'L Thalamus (emoproxI shock intersection)',\n",
    "               'R Thalamus (emoproxI shock intersection)',\n",
    "               'L Anterior dorsal insula',\n",
    "               'R Anterior dorsal insula',\n",
    "               'L Mid posterior insula',\n",
    "               'R Mid posterior insula',\n",
    "               'L Anterior ventral insula (anterior pole)',\n",
    "               'R Anterior ventral insula (anterior pole)',\n",
    "               'vmPFC (new 5mm sphere from Hartley paper)',\n",
    "               'L BST',\n",
    "               'L Anterior hippocampus',\n",
    "               'L PAG',\n",
    "               'PCC (1)',\n",
    "               'PCC (2)',\n",
    "               'R  BST',\n",
    "               'R Anterior hippocampus',\n",
    "               'R PAG',\n",
    "               'vmPFC (from out lab)']\n",
    "       }\n",
    "rois = ROIs['new']"
   ]
  },
  {
   "cell_type": "markdown",
   "metadata": {},
   "source": [
    "## List of ROIs to included in RBA"
   ]
  },
  {
   "cell_type": "code",
   "execution_count": 13,
   "metadata": {},
   "outputs": [
    {
     "name": "stdout",
     "output_type": "stream",
     "text": [
      "1 L Amygdala (BLBM)\n",
      "2 R Amygdala (BLBM)\n",
      "3 L Amygdala (CeME)\n",
      "4 R Amygdala (CeME)\n",
      "5 L aMCC\n",
      "6 R aMCC\n",
      "7 L Thalamus (emoproxI shock intersection)\n",
      "8 R Thalamus (emoproxI shock intersection)\n",
      "9 L Anterior dorsal insula\n",
      "10 R Anterior dorsal insula\n",
      "11 L Mid posterior insula\n",
      "12 R Mid posterior insula\n",
      "13 L Anterior ventral insula (anterior pole)\n",
      "14 R Anterior ventral insula (anterior pole)\n",
      "15 vmPFC (new 5mm sphere from Hartley paper)\n",
      "16 L BST\n",
      "17 L Anterior hippocampus\n",
      "18 L PAG\n",
      "19 PCC (1)\n",
      "20 PCC (2)\n",
      "21 R  BST\n",
      "22 R Anterior hippocampus\n",
      "23 R PAG\n",
      "24 vmPFC (from out lab)\n"
     ]
    }
   ],
   "source": [
    "for i,roi in enumerate(rois):\n",
    "    print(i+1,roi)"
   ]
  },
  {
   "cell_type": "code",
   "execution_count": 14,
   "metadata": {},
   "outputs": [],
   "source": [
    "# Load the data that contains shock betas for all participants\n",
    "beta_df = pd.read_csv('Individual_betas_from_ROI_analysis_S_buttonPress.csv') # old rois\n",
    "beta_df = pd.read_csv('data/Individual_betas_from_ROI_final_S_buttonPress.csv')"
   ]
  },
  {
   "cell_type": "code",
   "execution_count": 15,
   "metadata": {},
   "outputs": [],
   "source": [
    "# Get only the shock betas for the rois mentioned above from beta_df and save it as a new df (all_roi_df)\n",
    "all_rois_df = beta_df[beta_df['ROI'].isin(rois)][['Pair','Subject','Group','ROI','beta']]"
   ]
  },
  {
   "cell_type": "code",
   "execution_count": 16,
   "metadata": {},
   "outputs": [],
   "source": [
    "# Pivot the table such that shock betas for every roi are put in separate columns\n",
    "all_rois_df = all_rois_df.groupby(['Pair','Subject','Group','ROI'])['beta'].mean().unstack()\n",
    "# Reset the columns because groupby create the creates multiple index columns\n",
    "all_rois_df.reset_index(inplace=True)"
   ]
  },
  {
   "cell_type": "code",
   "execution_count": 17,
   "metadata": {},
   "outputs": [],
   "source": [
    "# Extract the shock beta values from both goups, and subtract one from the other (uncontrol - control)\n",
    "all_rois_pair_df = all_rois_df[all_rois_df['Group']=='uncontrol'][rois].values - all_rois_df[all_rois_df['Group']=='control'][rois].values\n",
    "all_rois_pair_df = pd.DataFrame(all_rois_pair_df,columns=rois, index=all_rois_df.Pair.unique())\n",
    "all_rois_pair_df.index.name = 'Pair'"
   ]
  },
  {
   "cell_type": "code",
   "execution_count": 18,
   "metadata": {},
   "outputs": [
    {
     "data": {
      "text/html": [
       "<div>\n",
       "<style scoped>\n",
       "    .dataframe tbody tr th:only-of-type {\n",
       "        vertical-align: middle;\n",
       "    }\n",
       "\n",
       "    .dataframe tbody tr th {\n",
       "        vertical-align: top;\n",
       "    }\n",
       "\n",
       "    .dataframe thead th {\n",
       "        text-align: right;\n",
       "    }\n",
       "</style>\n",
       "<table border=\"1\" class=\"dataframe\">\n",
       "  <thead>\n",
       "    <tr style=\"text-align: right;\">\n",
       "      <th></th>\n",
       "      <th>Pair</th>\n",
       "      <th>L Amygdala (BLBM)</th>\n",
       "      <th>R Amygdala (BLBM)</th>\n",
       "      <th>L Amygdala (CeME)</th>\n",
       "      <th>R Amygdala (CeME)</th>\n",
       "      <th>L aMCC</th>\n",
       "      <th>R aMCC</th>\n",
       "      <th>L Thalamus (emoproxI shock intersection)</th>\n",
       "      <th>R Thalamus (emoproxI shock intersection)</th>\n",
       "      <th>L Anterior dorsal insula</th>\n",
       "      <th>...</th>\n",
       "      <th>vmPFC (new 5mm sphere from Hartley paper)</th>\n",
       "      <th>L BST</th>\n",
       "      <th>L Anterior hippocampus</th>\n",
       "      <th>L PAG</th>\n",
       "      <th>PCC (1)</th>\n",
       "      <th>PCC (2)</th>\n",
       "      <th>R  BST</th>\n",
       "      <th>R Anterior hippocampus</th>\n",
       "      <th>R PAG</th>\n",
       "      <th>vmPFC (from out lab)</th>\n",
       "    </tr>\n",
       "  </thead>\n",
       "  <tbody>\n",
       "    <tr>\n",
       "      <th>0</th>\n",
       "      <td>P00</td>\n",
       "      <td>-0.084068</td>\n",
       "      <td>0.130485</td>\n",
       "      <td>0.182728</td>\n",
       "      <td>0.231786</td>\n",
       "      <td>1.308880</td>\n",
       "      <td>0.859432</td>\n",
       "      <td>0.383948</td>\n",
       "      <td>0.557443</td>\n",
       "      <td>0.352512</td>\n",
       "      <td>...</td>\n",
       "      <td>-0.184515</td>\n",
       "      <td>1.179902</td>\n",
       "      <td>-0.076598</td>\n",
       "      <td>-0.094606</td>\n",
       "      <td>0.510802</td>\n",
       "      <td>0.465975</td>\n",
       "      <td>0.618671</td>\n",
       "      <td>-0.129525</td>\n",
       "      <td>0.742407</td>\n",
       "      <td>0.023977</td>\n",
       "    </tr>\n",
       "    <tr>\n",
       "      <th>1</th>\n",
       "      <td>P01</td>\n",
       "      <td>0.872066</td>\n",
       "      <td>0.216880</td>\n",
       "      <td>0.091150</td>\n",
       "      <td>-0.123404</td>\n",
       "      <td>0.093199</td>\n",
       "      <td>0.322511</td>\n",
       "      <td>-0.024085</td>\n",
       "      <td>-0.183579</td>\n",
       "      <td>0.472212</td>\n",
       "      <td>...</td>\n",
       "      <td>-0.366622</td>\n",
       "      <td>0.906558</td>\n",
       "      <td>0.557257</td>\n",
       "      <td>0.604223</td>\n",
       "      <td>-0.314802</td>\n",
       "      <td>-0.366220</td>\n",
       "      <td>-0.693434</td>\n",
       "      <td>0.380411</td>\n",
       "      <td>0.195783</td>\n",
       "      <td>-0.282359</td>\n",
       "    </tr>\n",
       "    <tr>\n",
       "      <th>2</th>\n",
       "      <td>P02</td>\n",
       "      <td>-0.622541</td>\n",
       "      <td>0.526499</td>\n",
       "      <td>0.517381</td>\n",
       "      <td>-2.018683</td>\n",
       "      <td>0.223780</td>\n",
       "      <td>0.245688</td>\n",
       "      <td>-0.330474</td>\n",
       "      <td>-0.497006</td>\n",
       "      <td>0.207332</td>\n",
       "      <td>...</td>\n",
       "      <td>0.059929</td>\n",
       "      <td>-0.073610</td>\n",
       "      <td>-0.276568</td>\n",
       "      <td>-0.201661</td>\n",
       "      <td>-0.262267</td>\n",
       "      <td>-0.147465</td>\n",
       "      <td>-0.576978</td>\n",
       "      <td>-0.005498</td>\n",
       "      <td>-0.822900</td>\n",
       "      <td>-0.204460</td>\n",
       "    </tr>\n",
       "    <tr>\n",
       "      <th>3</th>\n",
       "      <td>P03</td>\n",
       "      <td>0.077980</td>\n",
       "      <td>-0.146649</td>\n",
       "      <td>-1.145212</td>\n",
       "      <td>-0.845632</td>\n",
       "      <td>0.099647</td>\n",
       "      <td>0.116781</td>\n",
       "      <td>0.083317</td>\n",
       "      <td>0.341529</td>\n",
       "      <td>0.327104</td>\n",
       "      <td>...</td>\n",
       "      <td>0.273050</td>\n",
       "      <td>0.419963</td>\n",
       "      <td>0.122965</td>\n",
       "      <td>0.071113</td>\n",
       "      <td>-0.235017</td>\n",
       "      <td>0.178316</td>\n",
       "      <td>0.095094</td>\n",
       "      <td>-0.258402</td>\n",
       "      <td>-0.558664</td>\n",
       "      <td>-0.232257</td>\n",
       "    </tr>\n",
       "    <tr>\n",
       "      <th>4</th>\n",
       "      <td>P04</td>\n",
       "      <td>-0.114705</td>\n",
       "      <td>0.129912</td>\n",
       "      <td>0.198253</td>\n",
       "      <td>-0.158917</td>\n",
       "      <td>-0.324069</td>\n",
       "      <td>0.512283</td>\n",
       "      <td>0.196029</td>\n",
       "      <td>0.395158</td>\n",
       "      <td>0.253511</td>\n",
       "      <td>...</td>\n",
       "      <td>-0.165839</td>\n",
       "      <td>0.128474</td>\n",
       "      <td>0.084028</td>\n",
       "      <td>-0.406341</td>\n",
       "      <td>0.377827</td>\n",
       "      <td>-0.516481</td>\n",
       "      <td>0.165573</td>\n",
       "      <td>-0.108967</td>\n",
       "      <td>0.685988</td>\n",
       "      <td>-0.565311</td>\n",
       "    </tr>\n",
       "  </tbody>\n",
       "</table>\n",
       "<p>5 rows × 25 columns</p>\n",
       "</div>"
      ],
      "text/plain": [
       "  Pair  L Amygdala (BLBM)  R Amygdala (BLBM)  L Amygdala (CeME)  \\\n",
       "0  P00          -0.084068           0.130485           0.182728   \n",
       "1  P01           0.872066           0.216880           0.091150   \n",
       "2  P02          -0.622541           0.526499           0.517381   \n",
       "3  P03           0.077980          -0.146649          -1.145212   \n",
       "4  P04          -0.114705           0.129912           0.198253   \n",
       "\n",
       "   R Amygdala (CeME)    L aMCC    R aMCC  \\\n",
       "0           0.231786  1.308880  0.859432   \n",
       "1          -0.123404  0.093199  0.322511   \n",
       "2          -2.018683  0.223780  0.245688   \n",
       "3          -0.845632  0.099647  0.116781   \n",
       "4          -0.158917 -0.324069  0.512283   \n",
       "\n",
       "   L Thalamus (emoproxI shock intersection)  \\\n",
       "0                                  0.383948   \n",
       "1                                 -0.024085   \n",
       "2                                 -0.330474   \n",
       "3                                  0.083317   \n",
       "4                                  0.196029   \n",
       "\n",
       "   R Thalamus (emoproxI shock intersection)  L Anterior dorsal insula  ...  \\\n",
       "0                                  0.557443                  0.352512  ...   \n",
       "1                                 -0.183579                  0.472212  ...   \n",
       "2                                 -0.497006                  0.207332  ...   \n",
       "3                                  0.341529                  0.327104  ...   \n",
       "4                                  0.395158                  0.253511  ...   \n",
       "\n",
       "   vmPFC (new 5mm sphere from Hartley paper)     L BST  \\\n",
       "0                                  -0.184515  1.179902   \n",
       "1                                  -0.366622  0.906558   \n",
       "2                                   0.059929 -0.073610   \n",
       "3                                   0.273050  0.419963   \n",
       "4                                  -0.165839  0.128474   \n",
       "\n",
       "   L Anterior hippocampus     L PAG   PCC (1)   PCC (2)    R  BST  \\\n",
       "0               -0.076598 -0.094606  0.510802  0.465975  0.618671   \n",
       "1                0.557257  0.604223 -0.314802 -0.366220 -0.693434   \n",
       "2               -0.276568 -0.201661 -0.262267 -0.147465 -0.576978   \n",
       "3                0.122965  0.071113 -0.235017  0.178316  0.095094   \n",
       "4                0.084028 -0.406341  0.377827 -0.516481  0.165573   \n",
       "\n",
       "   R Anterior hippocampus     R PAG  vmPFC (from out lab)  \n",
       "0               -0.129525  0.742407              0.023977  \n",
       "1                0.380411  0.195783             -0.282359  \n",
       "2               -0.005498 -0.822900             -0.204460  \n",
       "3               -0.258402 -0.558664             -0.232257  \n",
       "4               -0.108967  0.685988             -0.565311  \n",
       "\n",
       "[5 rows x 25 columns]"
      ]
     },
     "execution_count": 18,
     "metadata": {},
     "output_type": "execute_result"
    }
   ],
   "source": [
    "all_rois_pair_df.reset_index(inplace = True)\n",
    "all_rois_pair_df.head()"
   ]
  },
  {
   "cell_type": "code",
   "execution_count": 19,
   "metadata": {},
   "outputs": [],
   "source": [
    "new_score_df = pd.DataFrame()\n",
    "for pair in all_rois_df.Pair.unique():\n",
    "    con = all_rois_df[(all_rois_df['Pair']==pair) & (all_rois_df['Group'] == 'control')]['Subject'].values[0]\n",
    "    uncon = all_rois_df[(all_rois_df['Pair']==pair) & (all_rois_df['Group'] == 'uncontrol')]['Subject'].values[0]\n",
    "    \n",
    "    \n",
    "    conTrait = scores[scores['SubID'] == con]['TRAIT'].values[0]\n",
    "    unconTrait = scores[scores['SubID'] == uncon]['TRAIT'].values[0]\n",
    "    \n",
    "    conState = scores[scores['SubID'] == con]['STATE'].values[0]\n",
    "    unconState = scores[scores['SubID'] == uncon]['STATE'].values[0]\n",
    "    \n",
    "    tmp_df = pd.DataFrame([pair,uncon,con,\n",
    "                           unconTrait,conTrait,unconTrait-conTrait,np.mean([unconTrait,conTrait]),\n",
    "                           unconState,conState,unconState-conState,np.mean([unconState,conState])],\n",
    "                          index=['Pair',('SubID','uncontrol'),('SubID','control'),\n",
    "                                  ('TRAIT','uncontrol'),('TRAIT','control'),('TRAIT','uncon-con'),('TRAIT','mean'),\n",
    "                                  ('STATE','uncontrol'),('STATE','control'),('STATE','uncon-con'),('STATE','mean')]).T\n",
    "    \n",
    "    new_score_df = pd.concat([new_score_df,tmp_df],axis=0)\n",
    "    \n",
    "new_score_df.set_index('Pair',inplace=True)"
   ]
  },
  {
   "cell_type": "code",
   "execution_count": 20,
   "metadata": {},
   "outputs": [],
   "source": [
    "# drop unimportant columns from the STAI scores df (new_score_Df)\n",
    "new_score_df = new_score_df[[('TRAIT','uncon-con'),('TRAIT','mean'),('STATE','uncon-con'),('STATE','mean')]]"
   ]
  },
  {
   "cell_type": "code",
   "execution_count": 21,
   "metadata": {},
   "outputs": [],
   "source": [
    "# Convert the numerical columns of new_score_df to float\n",
    "for col in new_score_df.columns:\n",
    "    new_score_df[col] = new_score_df[col].astype(float)"
   ]
  },
  {
   "cell_type": "code",
   "execution_count": 22,
   "metadata": {},
   "outputs": [
    {
     "data": {
      "text/html": [
       "<div>\n",
       "<style scoped>\n",
       "    .dataframe tbody tr th:only-of-type {\n",
       "        vertical-align: middle;\n",
       "    }\n",
       "\n",
       "    .dataframe tbody tr th {\n",
       "        vertical-align: top;\n",
       "    }\n",
       "\n",
       "    .dataframe thead th {\n",
       "        text-align: right;\n",
       "    }\n",
       "</style>\n",
       "<table border=\"1\" class=\"dataframe\">\n",
       "  <thead>\n",
       "    <tr style=\"text-align: right;\">\n",
       "      <th></th>\n",
       "      <th>(TRAIT, uncon-con)</th>\n",
       "      <th>(TRAIT, mean)</th>\n",
       "      <th>(STATE, uncon-con)</th>\n",
       "      <th>(STATE, mean)</th>\n",
       "    </tr>\n",
       "    <tr>\n",
       "      <th>Pair</th>\n",
       "      <th></th>\n",
       "      <th></th>\n",
       "      <th></th>\n",
       "      <th></th>\n",
       "    </tr>\n",
       "  </thead>\n",
       "  <tbody>\n",
       "    <tr>\n",
       "      <th>P00</th>\n",
       "      <td>0.0</td>\n",
       "      <td>27.0</td>\n",
       "      <td>-2.0</td>\n",
       "      <td>23.0</td>\n",
       "    </tr>\n",
       "    <tr>\n",
       "      <th>P01</th>\n",
       "      <td>9.0</td>\n",
       "      <td>31.5</td>\n",
       "      <td>4.0</td>\n",
       "      <td>28.0</td>\n",
       "    </tr>\n",
       "    <tr>\n",
       "      <th>P02</th>\n",
       "      <td>1.0</td>\n",
       "      <td>36.5</td>\n",
       "      <td>3.0</td>\n",
       "      <td>27.5</td>\n",
       "    </tr>\n",
       "    <tr>\n",
       "      <th>P03</th>\n",
       "      <td>3.0</td>\n",
       "      <td>22.5</td>\n",
       "      <td>-1.0</td>\n",
       "      <td>20.5</td>\n",
       "    </tr>\n",
       "    <tr>\n",
       "      <th>P04</th>\n",
       "      <td>0.0</td>\n",
       "      <td>33.0</td>\n",
       "      <td>6.0</td>\n",
       "      <td>29.0</td>\n",
       "    </tr>\n",
       "  </tbody>\n",
       "</table>\n",
       "</div>"
      ],
      "text/plain": [
       "      (TRAIT, uncon-con)  (TRAIT, mean)  (STATE, uncon-con)  (STATE, mean)\n",
       "Pair                                                                      \n",
       "P00                  0.0           27.0                -2.0           23.0\n",
       "P01                  9.0           31.5                 4.0           28.0\n",
       "P02                  1.0           36.5                 3.0           27.5\n",
       "P03                  3.0           22.5                -1.0           20.5\n",
       "P04                  0.0           33.0                 6.0           29.0"
      ]
     },
     "execution_count": 22,
     "metadata": {},
     "output_type": "execute_result"
    }
   ],
   "source": [
    "new_score_df.head()"
   ]
  },
  {
   "cell_type": "code",
   "execution_count": 23,
   "metadata": {},
   "outputs": [],
   "source": [
    "# Reformat the tupled column names for (TRAIT, uncon-con) (TRAIT, mean) (STATE, uncon-con) (STATE, mean)\n",
    "col_to_drop = []\n",
    "for col in new_score_df.columns:\n",
    "    if type(col) is tuple:\n",
    "        \n",
    "        col_to_drop.append(col)\n",
    "        \n",
    "        STAI, kind = col\n",
    "        \n",
    "        if '-' in kind:\n",
    "            kind = 'diff'\n",
    "            \n",
    "        new_score_df[''.join([STAI,kind])] = new_score_df[col]\n",
    "        \n",
    "new_score_df.drop(columns=col_to_drop,inplace=True)"
   ]
  },
  {
   "cell_type": "code",
   "execution_count": 24,
   "metadata": {},
   "outputs": [
    {
     "data": {
      "text/html": [
       "<div>\n",
       "<style scoped>\n",
       "    .dataframe tbody tr th:only-of-type {\n",
       "        vertical-align: middle;\n",
       "    }\n",
       "\n",
       "    .dataframe tbody tr th {\n",
       "        vertical-align: top;\n",
       "    }\n",
       "\n",
       "    .dataframe thead th {\n",
       "        text-align: right;\n",
       "    }\n",
       "</style>\n",
       "<table border=\"1\" class=\"dataframe\">\n",
       "  <thead>\n",
       "    <tr style=\"text-align: right;\">\n",
       "      <th></th>\n",
       "      <th>TRAITdiff</th>\n",
       "      <th>TRAITmean</th>\n",
       "      <th>STATEdiff</th>\n",
       "      <th>STATEmean</th>\n",
       "    </tr>\n",
       "    <tr>\n",
       "      <th>Pair</th>\n",
       "      <th></th>\n",
       "      <th></th>\n",
       "      <th></th>\n",
       "      <th></th>\n",
       "    </tr>\n",
       "  </thead>\n",
       "  <tbody>\n",
       "    <tr>\n",
       "      <th>P00</th>\n",
       "      <td>0.0</td>\n",
       "      <td>27.0</td>\n",
       "      <td>-2.0</td>\n",
       "      <td>23.0</td>\n",
       "    </tr>\n",
       "    <tr>\n",
       "      <th>P01</th>\n",
       "      <td>9.0</td>\n",
       "      <td>31.5</td>\n",
       "      <td>4.0</td>\n",
       "      <td>28.0</td>\n",
       "    </tr>\n",
       "    <tr>\n",
       "      <th>P02</th>\n",
       "      <td>1.0</td>\n",
       "      <td>36.5</td>\n",
       "      <td>3.0</td>\n",
       "      <td>27.5</td>\n",
       "    </tr>\n",
       "    <tr>\n",
       "      <th>P03</th>\n",
       "      <td>3.0</td>\n",
       "      <td>22.5</td>\n",
       "      <td>-1.0</td>\n",
       "      <td>20.5</td>\n",
       "    </tr>\n",
       "    <tr>\n",
       "      <th>P04</th>\n",
       "      <td>0.0</td>\n",
       "      <td>33.0</td>\n",
       "      <td>6.0</td>\n",
       "      <td>29.0</td>\n",
       "    </tr>\n",
       "  </tbody>\n",
       "</table>\n",
       "</div>"
      ],
      "text/plain": [
       "      TRAITdiff  TRAITmean  STATEdiff  STATEmean\n",
       "Pair                                            \n",
       "P00         0.0       27.0       -2.0       23.0\n",
       "P01         9.0       31.5        4.0       28.0\n",
       "P02         1.0       36.5        3.0       27.5\n",
       "P03         3.0       22.5       -1.0       20.5\n",
       "P04         0.0       33.0        6.0       29.0"
      ]
     },
     "execution_count": 24,
     "metadata": {},
     "output_type": "execute_result"
    }
   ],
   "source": [
    "new_score_df.head()"
   ]
  },
  {
   "cell_type": "code",
   "execution_count": 25,
   "metadata": {},
   "outputs": [],
   "source": [
    "# Standardize the four STAI scores\n",
    "from sklearn.preprocessing import StandardScaler\n",
    "ss = StandardScaler()\n",
    "new_score_df_norm = pd.DataFrame(ss.fit_transform(new_score_df),\n",
    "                                 columns=new_score_df.columns,\n",
    "                                 index=new_score_df.index)"
   ]
  },
  {
   "cell_type": "code",
   "execution_count": 26,
   "metadata": {},
   "outputs": [
    {
     "data": {
      "text/html": [
       "<div>\n",
       "<style scoped>\n",
       "    .dataframe tbody tr th:only-of-type {\n",
       "        vertical-align: middle;\n",
       "    }\n",
       "\n",
       "    .dataframe tbody tr th {\n",
       "        vertical-align: top;\n",
       "    }\n",
       "\n",
       "    .dataframe thead th {\n",
       "        text-align: right;\n",
       "    }\n",
       "</style>\n",
       "<table border=\"1\" class=\"dataframe\">\n",
       "  <thead>\n",
       "    <tr style=\"text-align: right;\">\n",
       "      <th></th>\n",
       "      <th>ROI</th>\n",
       "      <th>Y</th>\n",
       "    </tr>\n",
       "    <tr>\n",
       "      <th>Pair</th>\n",
       "      <th></th>\n",
       "      <th></th>\n",
       "    </tr>\n",
       "  </thead>\n",
       "  <tbody>\n",
       "    <tr>\n",
       "      <th>P00</th>\n",
       "      <td>L Amygdala (BLBM)</td>\n",
       "      <td>-0.084068</td>\n",
       "    </tr>\n",
       "    <tr>\n",
       "      <th>P01</th>\n",
       "      <td>L Amygdala (BLBM)</td>\n",
       "      <td>0.872066</td>\n",
       "    </tr>\n",
       "    <tr>\n",
       "      <th>P02</th>\n",
       "      <td>L Amygdala (BLBM)</td>\n",
       "      <td>-0.622541</td>\n",
       "    </tr>\n",
       "    <tr>\n",
       "      <th>P03</th>\n",
       "      <td>L Amygdala (BLBM)</td>\n",
       "      <td>0.077980</td>\n",
       "    </tr>\n",
       "    <tr>\n",
       "      <th>P04</th>\n",
       "      <td>L Amygdala (BLBM)</td>\n",
       "      <td>-0.114705</td>\n",
       "    </tr>\n",
       "  </tbody>\n",
       "</table>\n",
       "</div>"
      ],
      "text/plain": [
       "                    ROI         Y\n",
       "Pair                             \n",
       "P00   L Amygdala (BLBM) -0.084068\n",
       "P01   L Amygdala (BLBM)  0.872066\n",
       "P02   L Amygdala (BLBM) -0.622541\n",
       "P03   L Amygdala (BLBM)  0.077980\n",
       "P04   L Amygdala (BLBM) -0.114705"
      ]
     },
     "execution_count": 26,
     "metadata": {},
     "output_type": "execute_result"
    }
   ],
   "source": [
    "# Melt the allall_rois_pair_df such that all shock beta values are put one column, and every beta is marked by the roi which it belongs to by another column 'ROI' nex to it\n",
    "all_rois_pair_df_melted = all_rois_pair_df.melt(id_vars='Pair',var_name='ROI',value_name='Y')\n",
    "all_rois_pair_df_melted.set_index('Pair',inplace=True)\n",
    "all_rois_pair_df_melted.head()"
   ]
  },
  {
   "cell_type": "code",
   "execution_count": 27,
   "metadata": {},
   "outputs": [],
   "source": [
    "# Join (on index 'Pair') the STAI score (new_score_df) and the roi shock beta (all_rois_pair_df_melted) dataframes\n",
    "full_df = all_rois_pair_df_melted.join(new_score_df_norm)\n",
    "full_df.reset_index(inplace=True)\n",
    "full_df['Subj'] = full_df['Pair']\n",
    "full_df.drop(columns = 'Pair',inplace=True)\n",
    "col_order = ['Subj','ROI','Y','TRAITmean','TRAITdiff','STATEmean','STATEdiff']"
   ]
  },
  {
   "cell_type": "code",
   "execution_count": 28,
   "metadata": {},
   "outputs": [
    {
     "name": "stdout",
     "output_type": "stream",
     "text": [
      "                 ROI         Y  TRAITdiff  TRAITmean  STATEdiff  STATEmean  \\\n",
      "0  L Amygdala (BLBM) -0.084068  -0.040647  -1.003049  -0.181211  -1.230659   \n",
      "1  R Amygdala (BLBM)  0.130485  -0.040647  -1.003049  -0.181211  -1.230659   \n",
      "2  L Amygdala (CeME)  0.182728  -0.040647  -1.003049  -0.181211  -1.230659   \n",
      "3  R Amygdala (CeME)  0.231786  -0.040647  -1.003049  -0.181211  -1.230659   \n",
      "4             L aMCC  1.308880  -0.040647  -1.003049  -0.181211  -1.230659   \n",
      "\n",
      "  Subj  \n",
      "0  P00  \n",
      "1  P00  \n",
      "2  P00  \n",
      "3  P00  \n",
      "4  P00  \n",
      "                         ROI         Y  TRAITdiff  TRAITmean  STATEdiff  \\\n",
      "1459                 PCC (2) -0.869129  -1.103272   0.572285  -1.177055   \n",
      "1460                  R  BST  0.671570  -1.103272   0.572285  -1.177055   \n",
      "1461  R Anterior hippocampus -0.161306  -1.103272   0.572285  -1.177055   \n",
      "1462                   R PAG  0.081098  -1.103272   0.572285  -1.177055   \n",
      "1463    vmPFC (from out lab) -0.312117  -1.103272   0.572285  -1.177055   \n",
      "\n",
      "      STATEmean Subj  \n",
      "1459   0.830403  P62  \n",
      "1460   0.830403  P62  \n",
      "1461   0.830403  P62  \n",
      "1462   0.830403  P62  \n",
      "1463   0.830403  P62  \n"
     ]
    }
   ],
   "source": [
    "print(full_df.head())\n",
    "print(full_df.tail())"
   ]
  },
  {
   "cell_type": "code",
   "execution_count": 29,
   "metadata": {},
   "outputs": [],
   "source": [
    "full_df[col_order].to_csv('01-uncon_v_con_shock_MR_ROI24_with_covariates/uncon_v_con_shock_MR_ROI24final_with_covariates.txt',sep='\\t',float_format='%.4f',index=False)"
   ]
  },
  {
   "cell_type": "code",
   "execution_count": 35,
   "metadata": {},
   "outputs": [],
   "source": [
    "#full_df[full_df['ROI']=='rBNST'][col_order].drop(columns='ROI').to_csv('uncon_v_con_rBNST_with_covariates/uncon_v_con_shock_MR_rBNST_with_covariates2.txt',sep='\\t',float_format='%.4f',index=False)"
   ]
  },
  {
   "cell_type": "markdown",
   "metadata": {},
   "source": [
    "# Distribution of Y (shock beta contrast [uncon-con])"
   ]
  },
  {
   "cell_type": "code",
   "execution_count": 30,
   "metadata": {},
   "outputs": [
    {
     "data": {
      "text/plain": [
       "Text(0.75, 150, 'Skeweness=0.327')"
      ]
     },
     "execution_count": 30,
     "metadata": {},
     "output_type": "execute_result"
    },
    {
     "data": {
      "image/png": "[encoded data removed]",
      "text/plain": [
       "<Figure size 576x432 with 1 Axes>"
      ]
     },
     "metadata": {
      "needs_background": "light"
     },
     "output_type": "display_data"
    }
   ],
   "source": [
    "plt.figure(figsize = (8,6))\n",
    "sns.distplot(full_df.Y,kde=False)\n",
    "plt.text(x=0.75,y=150, s='Skeweness=%.3f' %(full_df.Y.skew()),fontdict={'size':14})"
   ]
  },
  {
   "cell_type": "markdown",
   "metadata": {},
   "source": [
    "There is minor skewness but there are also a few outliers. Hence use student-t distribution for Y in RBA."
   ]
  },
  {
   "cell_type": "code",
   "execution_count": null,
   "metadata": {},
   "outputs": [],
   "source": []
  }
 ],
 "metadata": {
  "kernelspec": {
   "display_name": "Python 3",
   "language": "python",
   "name": "python3"
  },
  "language_info": {
   "codemirror_mode": {
    "name": "ipython",
    "version": 3
   },
   "file_extension": ".py",
   "mimetype": "text/x-python",
   "name": "python",
   "nbconvert_exporter": "python",
   "pygments_lexer": "ipython3",
   "version": "3.7.3"
  }
 },
 "nbformat": 4,
 "nbformat_minor": 4
}
