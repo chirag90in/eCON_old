{
 "cells": [
  {
   "cell_type": "code",
   "execution_count": 2,
   "metadata": {},
   "outputs": [
    {
     "data": {
      "text/html": [
       "<script>\n",
       "code_show=true; \n",
       "function code_toggle() {\n",
       " if (code_show){\n",
       " $('div.input').hide();\n",
       " } else {\n",
       " $('div.input').show();\n",
       " }\n",
       " code_show = !code_show\n",
       "} \n",
       "$( document ).ready(code_toggle);\n",
       "</script>\n",
       "<form action=\"javascript:code_toggle()\"><input type=\"submit\" value=\"Click here to toggle on/off the raw code.\"></form>"
      ],
      "text/plain": [
       "<IPython.core.display.HTML object>"
      ]
     },
     "execution_count": 2,
     "metadata": {},
     "output_type": "execute_result"
    }
   ],
   "source": [
    "from IPython.display import HTML\n",
    "\n",
    "HTML('''<script>\n",
    "code_show=true; \n",
    "function code_toggle() {\n",
    " if (code_show){\n",
    " $('div.input').hide();\n",
    " } else {\n",
    " $('div.input').show();\n",
    " }\n",
    " code_show = !code_show\n",
    "} \n",
    "$( document ).ready(code_toggle);\n",
    "</script>\n",
    "<form action=\"javascript:code_toggle()\"><input type=\"submit\" value=\"Click here to toggle on/off the raw code.\"></form>''')\n"
   ]
  },
  {
   "cell_type": "code",
   "execution_count": null,
   "metadata": {},
   "outputs": [],
   "source": [
    "import nibabel as nib\n",
    "import pandas as pd\n",
    "import numpy as np\n",
    "from os.path import join, dirname, isdir, isfile, basename, exists\n",
    "from glob import glob\n",
    "import matplotlib as mpl\n",
    "import matplotlib.pyplot as plt\n",
    "%matplotlib inline"
   ]
  },
  {
   "cell_type": "code",
   "execution_count": 7,
   "metadata": {},
   "outputs": [],
   "source": [
    "yoked = pd.read_excel('../../onsetdir/CON_yoked_table.xlsx')\n",
    "yoked = yoked.query('use == 1').reset_index()"
   ]
  },
  {
   "cell_type": "code",
   "execution_count": 8,
   "metadata": {},
   "outputs": [],
   "source": [
    "beta_path = '../../dataset/results_ShockCensored/{subj}/{group}lable/splitted_regs_deconv/{subj}_{cond}_bucket.nii.gz'\n",
    "\n",
    "Pessoa_Lab = '/data/bswift-1/Pessoa_Lab'\n",
    "eCON = join(Pessoa_Lab,'eCON')\n",
    "EMO1 = join(Pessoa_Lab,'EMO1')\n",
    "\n",
    "ROIs = {join(eCON,'ROI_masks/ROI_analysis_mask.nii.gz'):[('Left Hippocampus',11),('Right Hippocampus',12),\n",
    "                                              ('Right Dorsal Anterior Insula',18),\n",
    "                                              ('Right Ventral Anterior Insula',17),\n",
    "                                              ('Left BNST',15),('Right BNST',16),\n",
    "                                              ('Left Habenula',13),('Right Habenula',14)],\n",
    "       join(eCON,'ROI_masks/from_emoprox1/vmPFC_PCC_masks.nii.gz'):[('vmPFC',1),('PCC',2)],\n",
    "       join(eCON,'ROI_masks/ROI_Amygdala.nii.gz'):[('Right Amygdala',1),\n",
    "                                                   ('Left Amygdala',2)],\n",
    "       join(eCON,'ROI_masks/Ezra_PAG_ROI_2mm_SNR25.nii.gz'):[('Right PAG',1),('Left PAG',2)],\n",
    "       join(EMO1,'ROIs/sign25vs75_P0.001_20vox_mask.nii.gz'):[('Right Amygdala (Version 3)',28),\n",
    "                                                              ('PAG (Version 3)',44),\n",
    "                                                              ('Anterior Insula (functional)',10)],\n",
    "       join(EMO1,'ROIs/PCC_masks.nii.gz'):[('PCC (Version 2)',1)],\n",
    "       join(eCON,'ROI_masks/from_emoprox1/PAG_Amygdala.nii.gz'):[('PAG (Version 2)',1),\n",
    "                                                                 ('Right Amygdala (Version 2)',2)],\n",
    "       join(eCON,'ROI_masks/Amygdala_CeME_R.nii.gz'):[('Right Central Amgdala',1)],\n",
    "       join(eCON,'ROI_masks/Amygdala_CeME_L.nii.gz'):[('Left Central Amygdala',1)],\n",
    "       join(EMO1,'ROIs/proximity25vs75_mask.nii.gz'):[('Mid-Cingulate',13)],\n",
    "       join(eCON,'ROI_masks/anterior_cingulate_Neurosynth_mask.nii.gz'):[('Anterior Cingulate',1)],\n",
    "       join(eCON,'ROI_masks/from_emoprox1/emoprox1_Deen_L-dAI.nii.gz'):[('Left Dorsal Anterior Insula',1)],\n",
    "       join(eCON,'ROI_masks/from_emoprox1/emoprox1_Deen_L-vAI.nii.gz'):[('Left Ventral Anterior Insula',1)]}"
   ]
  },
  {
   "cell_type": "code",
   "execution_count": 10,
   "metadata": {
    "collapsed": true,
    "jupyter": {
     "outputs_hidden": true
    }
   },
   "outputs": [
    {
     "name": "stdout",
     "output_type": "stream",
     "text": [
      "Processing CON031....\n",
      "Processing CON001....\n",
      "Processing CON021....\n",
      "Processing CON002....\n",
      "Processing CON022....\n",
      "Processing CON003....\n",
      "Processing CON030....\n",
      "Processing CON004....\n",
      "Processing CON023....\n",
      "Processing CON005....\n",
      "Processing CON025....\n",
      "Processing CON006....\n",
      "Processing CON016....\n",
      "Processing CON007....\n",
      "Processing CON053....\n",
      "Processing CON008....\n",
      "Processing CON052....\n",
      "Processing CON009....\n",
      "Processing CON089....\n",
      "Processing CON010....\n",
      "Processing CON020....\n",
      "Processing CON011....\n",
      "Processing CON033....\n",
      "Processing CON012....\n",
      "Processing CON019....\n",
      "Processing CON013....\n",
      "Processing CON084....\n",
      "Processing CON014....\n",
      "Processing CON027....\n",
      "Processing CON015....\n",
      "Processing CON049....\n",
      "Processing CON017....\n",
      "Processing CON028....\n",
      "Processing CON018....\n",
      "Processing CON026....\n",
      "Processing CON024....\n",
      "Processing CON054....\n",
      "Processing CON029....\n",
      "Processing CON034....\n",
      "Processing CON032....\n",
      "Processing CON036....\n",
      "Processing CON035....\n",
      "Processing CON058....\n",
      "Processing CON037....\n",
      "Processing CON056....\n",
      "Processing CON038....\n",
      "Processing CON075....\n",
      "Processing CON039....\n",
      "Processing CON072....\n",
      "Processing CON040....\n",
      "Processing CON055....\n",
      "Processing CON041....\n",
      "Processing CON061....\n",
      "Processing CON042....\n",
      "Processing CON057....\n",
      "Processing CON043....\n",
      "Processing CON067....\n",
      "Processing CON044....\n",
      "Processing CON064....\n",
      "Processing CON045....\n",
      "Processing CON068....\n",
      "Processing CON046....\n",
      "Processing CON059....\n",
      "Processing CON047....\n",
      "Processing CON051....\n",
      "Processing CON048....\n",
      "Processing CON078....\n",
      "Processing CON050....\n",
      "Processing CON077....\n",
      "Processing CON060....\n",
      "Processing CON066....\n",
      "Processing CON062....\n",
      "Processing CON098....\n",
      "Processing CON063....\n",
      "Processing CON076....\n",
      "Processing CON065....\n",
      "Processing CON073....\n",
      "Processing CON069....\n",
      "Processing CON085....\n",
      "Processing CON071....\n",
      "Processing CON091....\n",
      "Processing CON074....\n",
      "Processing CON090....\n",
      "Processing CON079....\n",
      "Processing CON082....\n",
      "Processing CON080....\n",
      "Processing CON121....\n",
      "Processing CON081....\n",
      "Processing CON097....\n",
      "Processing CON083....\n",
      "Processing CON101....\n",
      "Processing CON086....\n",
      "Processing CON092....\n",
      "Processing CON087....\n",
      "Processing CON103....\n",
      "Processing CON088....\n",
      "Processing CON102....\n",
      "Processing CON093....\n",
      "Processing CON099....\n",
      "Processing CON094....\n",
      "Processing CON096....\n",
      "Processing CON095....\n",
      "Processing CON106....\n",
      "Processing CON104....\n",
      "Processing CON110....\n",
      "Processing CON105....\n",
      "Processing CON119....\n",
      "Processing CON107....\n",
      "Processing CON118....\n",
      "Processing CON108....\n",
      "Processing CON116....\n",
      "Processing CON109....\n",
      "Processing CON114....\n",
      "Processing CON111....\n",
      "Processing CON113....\n",
      "Processing CON112....\n",
      "Processing CON123....\n",
      "Processing CON115....\n",
      "Processing CON120....\n",
      "Processing CON117....\n",
      "Processing CON125....\n",
      "Processing CON122....\n"
     ]
    }
   ],
   "source": [
    "if exists('PerSubjApprRetrResp.csv'):\n",
    "    main_df = pd.read_csv('PerSubjApprRetrResp.csv')\n",
    "else:\n",
    "    main_df = pd.DataFrame()\n",
    "    MNI_gm = nib.load(join(Pessoa_Lab,'share/templates/MNI152_T1_2mm_brain_GM_02182017.nii.gz')).get_data()\n",
    "\n",
    "    for j,row in yoked.iterrows():\n",
    "        for group in ['uncontrol','control']:\n",
    "            subj = row[group]\n",
    "            print('Processing {}....'.format(subj))\n",
    "            for cond in 'appr retr'.split():\n",
    "                betas = nib.load(beta_path.format(subj=subj,group=group,cond=cond)).get_data().squeeze()[:,:,:,1:42:2]\n",
    "                for maskpath in ROIs.keys():\n",
    "                    mask = nib.load(maskpath).get_data()\n",
    "                    for roi in ROIs[maskpath]:\n",
    "                        name, i = roi\n",
    "                        resp=betas[(mask==i) & (MNI_gm == 1)].mean(axis=0)\n",
    "                        tmp=pd.DataFrame([(np.arange(resp.shape[0]))*1.25, np.arange(resp.shape[0]), resp],\n",
    "                                         index=['Time','TR','Response']).T\n",
    "                        tmp['Subject'] = subj\n",
    "                        tmp['Group'] = group\n",
    "                        tmp['Pair'] = j\n",
    "                        tmp['ROI'] = name\n",
    "                        tmp['Condition'] = cond\n",
    "\n",
    "                        main_df = pd.concat([main_df,tmp],axis =0)\n",
    "    main_df[['Group','Pair','Subject','ROI','Condition','TR','Time','Response']].to_csv('PerSubjApprRetrResp.csv',index=False)"
   ]
  },
  {
   "cell_type": "code",
   "execution_count": 42,
   "metadata": {},
   "outputs": [
    {
     "data": {
      "text/plain": [
       "(21,)"
      ]
     },
     "execution_count": 42,
     "metadata": {},
     "output_type": "execute_result"
    }
   ],
   "source": [
    "betas[(mask==i) & (MNI_gm == 1)].mean(axis=0).shape"
   ]
  },
  {
   "cell_type": "code",
   "execution_count": 44,
   "metadata": {},
   "outputs": [
    {
     "data": {
      "text/plain": [
       "(91, 109, 91, 21)"
      ]
     },
     "execution_count": 44,
     "metadata": {},
     "output_type": "execute_result"
    }
   ],
   "source": [
    "nib.load(beta_path.format(subj=subj,group=group,cond=cond)).get_data().squeeze()[:,:,:,1:42:2].shape"
   ]
  },
  {
   "cell_type": "code",
   "execution_count": 40,
   "metadata": {},
   "outputs": [
    {
     "data": {
      "text/plain": [
       "'../../dataset/results_ShockCensored/CON122/controllable/splitted_regs_deconv/CON122_retr_bucket.nii.gz'"
      ]
     },
     "execution_count": 40,
     "metadata": {},
     "output_type": "execute_result"
    }
   ],
   "source": [
    "beta_path.format(subj=subj,group=group,cond=cond)"
   ]
  },
  {
   "cell_type": "code",
   "execution_count": 13,
   "metadata": {},
   "outputs": [
    {
     "data": {
      "text/html": [
       "<div>\n",
       "<style scoped>\n",
       "    .dataframe tbody tr th:only-of-type {\n",
       "        vertical-align: middle;\n",
       "    }\n",
       "\n",
       "    .dataframe tbody tr th {\n",
       "        vertical-align: top;\n",
       "    }\n",
       "\n",
       "    .dataframe thead th {\n",
       "        text-align: right;\n",
       "    }\n",
       "</style>\n",
       "<table border=\"1\" class=\"dataframe\">\n",
       "  <thead>\n",
       "    <tr style=\"text-align: right;\">\n",
       "      <th></th>\n",
       "      <th>Time</th>\n",
       "      <th>TR</th>\n",
       "      <th>Response</th>\n",
       "      <th>Subject</th>\n",
       "      <th>Group</th>\n",
       "      <th>Pair</th>\n",
       "      <th>ROI</th>\n",
       "      <th>Condition</th>\n",
       "    </tr>\n",
       "  </thead>\n",
       "  <tbody>\n",
       "    <tr>\n",
       "      <th>0</th>\n",
       "      <td>0.00</td>\n",
       "      <td>0.0</td>\n",
       "      <td>0.277159</td>\n",
       "      <td>CON031</td>\n",
       "      <td>uncontrol</td>\n",
       "      <td>0</td>\n",
       "      <td>Left Hippocampus</td>\n",
       "      <td>appr</td>\n",
       "    </tr>\n",
       "    <tr>\n",
       "      <th>1</th>\n",
       "      <td>1.25</td>\n",
       "      <td>1.0</td>\n",
       "      <td>0.342135</td>\n",
       "      <td>CON031</td>\n",
       "      <td>uncontrol</td>\n",
       "      <td>0</td>\n",
       "      <td>Left Hippocampus</td>\n",
       "      <td>appr</td>\n",
       "    </tr>\n",
       "    <tr>\n",
       "      <th>2</th>\n",
       "      <td>2.50</td>\n",
       "      <td>2.0</td>\n",
       "      <td>0.228538</td>\n",
       "      <td>CON031</td>\n",
       "      <td>uncontrol</td>\n",
       "      <td>0</td>\n",
       "      <td>Left Hippocampus</td>\n",
       "      <td>appr</td>\n",
       "    </tr>\n",
       "    <tr>\n",
       "      <th>3</th>\n",
       "      <td>3.75</td>\n",
       "      <td>3.0</td>\n",
       "      <td>0.292123</td>\n",
       "      <td>CON031</td>\n",
       "      <td>uncontrol</td>\n",
       "      <td>0</td>\n",
       "      <td>Left Hippocampus</td>\n",
       "      <td>appr</td>\n",
       "    </tr>\n",
       "    <tr>\n",
       "      <th>4</th>\n",
       "      <td>5.00</td>\n",
       "      <td>4.0</td>\n",
       "      <td>0.284274</td>\n",
       "      <td>CON031</td>\n",
       "      <td>uncontrol</td>\n",
       "      <td>0</td>\n",
       "      <td>Left Hippocampus</td>\n",
       "      <td>appr</td>\n",
       "    </tr>\n",
       "  </tbody>\n",
       "</table>\n",
       "</div>"
      ],
      "text/plain": [
       "   Time   TR  Response Subject      Group  Pair               ROI Condition\n",
       "0  0.00  0.0  0.277159  CON031  uncontrol     0  Left Hippocampus      appr\n",
       "1  1.25  1.0  0.342135  CON031  uncontrol     0  Left Hippocampus      appr\n",
       "2  2.50  2.0  0.228538  CON031  uncontrol     0  Left Hippocampus      appr\n",
       "3  3.75  3.0  0.292123  CON031  uncontrol     0  Left Hippocampus      appr\n",
       "4  5.00  4.0  0.284274  CON031  uncontrol     0  Left Hippocampus      appr"
      ]
     },
     "execution_count": 13,
     "metadata": {},
     "output_type": "execute_result"
    }
   ],
   "source": [
    "main_df.head()"
   ]
  },
  {
   "cell_type": "code",
   "execution_count": 49,
   "metadata": {},
   "outputs": [
    {
     "data": {
      "image/png": "[encoded data removed]",
      "text/plain": [
       "<matplotlib.figure.Figure at 0x7fb972ed5a58>"
      ]
     },
     "metadata": {},
     "output_type": "display_data"
    }
   ],
   "source": [
    "names = ['Right Anterior Insula', 'Left Bed Nucleus of the Stria Terminalis']\n",
    "\n",
    "fig, axes = plt.subplots(ncols=2,sharey=True,figsize=(18,8))\n",
    "plt.subplots_adjust(wspace=0.1, hspace=0)\n",
    "time = main_df['Time'].unique()\n",
    "for i,roi in enumerate(['Anterior Insula (functional)','Left BNST']):\n",
    "    sub_df = main_df[(main_df['ROI'] == roi) & (main_df['Group']=='uncontrol')]\n",
    "    mean_df = sub_df.groupby(['Group','Condition','Time'])['Response'].mean().to_frame().reset_index()\n",
    "    approach = mean_df['Response'][mean_df['Condition']=='appr'].values\n",
    "    retreat = mean_df['Response'][mean_df['Condition']=='retr'].values\n",
    "    axes[i].plot(time[5:10],approach[5:10],linestyle='-',color='red',linewidth=4, marker='o', markersize = 15, label = 'Approah')\n",
    "    axes[i].plot(time[5:10],retreat[5:10],linestyle='--',color='blue',linewidth=4, marker='*', markersize = 15, label = 'Retreat')\n",
    "    axes[i].axvspan(time[3], 8, alpha = 0.3, color = 'r', label='Approach/Retreat')\n",
    "    axes[i].axvspan(8,12, alpha = 0.3, color = 'gray',label='Lagged response')\n",
    "    axes[i].axhline(0,linestyle=':',color='black',linewidth = 4)\n",
    "    axes[i].set_ylim(-0.125,0.2)\n",
    "    axes[i].set_xlim(6,11.5)\n",
    "    axes[i].tick_params(direction='out', length=6, width=2, colors='k', labelsize=16)\n",
    "    axes[i].legend(loc=2,prop={'size': 14})\n",
    "    axes[i].set_title(names[i],fontsize=22)\n",
    "    axes[i].set_xlabel('Time (seconds)',fontsize=20)\n",
    "    if i == 0:\n",
    "        axes[i].set_ylabel('Estimated Response (A.U.)',fontsize=20)\n",
    "    #fig.legend(axes[0].get_legend_handles_labels()[1],loc=7,prop={'size': 14})\n",
    "    #fig.savefig('figures/rAI and lBNST estimates resp.png',dpi=300)\n",
    "    "
   ]
  },
  {
   "cell_type": "code",
   "execution_count": null,
   "metadata": {},
   "outputs": [],
   "source": []
  },
  {
   "cell_type": "code",
   "execution_count": null,
   "metadata": {},
   "outputs": [],
   "source": []
  },
  {
   "cell_type": "code",
   "execution_count": 52,
   "metadata": {},
   "outputs": [],
   "source": []
  },
  {
   "cell_type": "code",
   "execution_count": null,
   "metadata": {},
   "outputs": [],
   "source": []
  }
 ],
 "metadata": {
  "kernelspec": {
   "display_name": "Python 3",
   "language": "python",
   "name": "python3"
  },
  "language_info": {
   "codemirror_mode": {
    "name": "ipython",
    "version": 3
   },
   "file_extension": ".py",
   "mimetype": "text/x-python",
   "name": "python",
   "nbconvert_exporter": "python",
   "pygments_lexer": "ipython3",
   "version": "3.7.3"
  }
 },
 "nbformat": 4,
 "nbformat_minor": 4
}
