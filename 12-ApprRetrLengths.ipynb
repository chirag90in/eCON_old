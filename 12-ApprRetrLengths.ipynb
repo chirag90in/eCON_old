{
 "cells": [
  {
   "cell_type": "code",
   "execution_count": 1,
   "metadata": {},
   "outputs": [],
   "source": [
    "import numpy as np\n",
    "\n",
    "import seaborn as sns; sns.set()\n",
    "import matplotlib.pyplot as plt\n",
    "%matplotlib inline"
   ]
  },
  {
   "cell_type": "code",
   "execution_count": 2,
   "metadata": {},
   "outputs": [],
   "source": [
    "appr = '/data/bswift-1/Pessoa_Lab/eCON/dataset/preproc2/CON002/splitted_regs_fancy/CON002_closeAllApprMR.txt'\n",
    "retr = '/data/bswift-1/Pessoa_Lab/eCON/dataset/preproc2/CON002/splitted_regs_fancy/CON002_closeAllRetrMR.txt'"
   ]
  },
  {
   "cell_type": "code",
   "execution_count": 3,
   "metadata": {},
   "outputs": [],
   "source": [
    "with open(appr,'r') as f:\n",
    "    appr = f.readlines()\n",
    "    \n",
    "with open(retr,'r') as f:\n",
    "    retr = f.readlines()\n",
    "    "
   ]
  },
  {
   "cell_type": "code",
   "execution_count": 4,
   "metadata": {},
   "outputs": [],
   "source": [
    "appr_durs = []\n",
    "for line in appr:\n",
    "    appr_durs.extend([float(kk.split(':')[1]) for kk in line.split()])\n",
    "    \n",
    "retr_durs = []\n",
    "for line in retr:\n",
    "    retr_durs.extend([float(kk.split(':')[1]) for kk in line.split()])"
   ]
  },
  {
   "cell_type": "code",
   "execution_count": 15,
   "metadata": {},
   "outputs": [
    {
     "data": {
      "image/png": "[encoded data removed]",
      "text/plain": [
       "<Figure size 720x360 with 2 Axes>"
      ]
     },
     "metadata": {
      "needs_background": "light"
     },
     "output_type": "display_data"
    }
   ],
   "source": [
    "appr_durs = np.asarray(appr_durs)\n",
    "retr_durs = np.asarray(retr_durs)\n",
    "\n",
    "plt.figure(figsize=(10,5))\n",
    "plt.subplot(1,2,1)\n",
    "_=plt.hist(appr_durs[appr_durs>=2])\n",
    "_=plt.title('Approach lengths (sec.)')\n",
    "_=plt.xlabel('Length (sec.)')\n",
    "_=plt.ylabel('counts')\n",
    "plt.subplot(1,2,2)\n",
    "_=plt.hist(retr_durs[retr_durs>=2])\n",
    "_=plt.title('Retreat lengths (sec.)')\n",
    "_=plt.xlabel('Length (sec.)')\n",
    "_=plt.ylabel('counts')"
   ]
  },
  {
   "cell_type": "code",
   "execution_count": 16,
   "metadata": {},
   "outputs": [],
   "source": [
    "appr_durs = appr_durs[appr_durs>=2]\n",
    "retr_durs = retr_durs[retr_durs>=2]"
   ]
  },
  {
   "cell_type": "code",
   "execution_count": 17,
   "metadata": {},
   "outputs": [
    {
     "name": "stdout",
     "output_type": "stream",
     "text": [
      "Number of approach and retreat events greater than 2 seconds: 116, 112\n"
     ]
    }
   ],
   "source": [
    "print('Number of approach and retreat events greater than 2 seconds: %i, %i' %(len(appr_durs),len(retr_durs)))"
   ]
  },
  {
   "cell_type": "code",
   "execution_count": 18,
   "metadata": {},
   "outputs": [
    {
     "name": "stdout",
     "output_type": "stream",
     "text": [
      "Number of approach and retreat events greater than 5 seconds: 110, 108\n"
     ]
    }
   ],
   "source": [
    "print('Number of approach and retreat events greater than 5 seconds: %i, %i' %(len(appr_durs[appr_durs>=5]),len(retr_durs[retr_durs>=5])))"
   ]
  },
  {
   "cell_type": "code",
   "execution_count": 19,
   "metadata": {},
   "outputs": [
    {
     "data": {
      "text/plain": [
       "8.0415"
      ]
     },
     "execution_count": 19,
     "metadata": {},
     "output_type": "execute_result"
    }
   ],
   "source": [
    "np.median(appr_durs)"
   ]
  },
  {
   "cell_type": "code",
   "execution_count": 20,
   "metadata": {},
   "outputs": [
    {
     "data": {
      "text/plain": [
       "7.97"
      ]
     },
     "execution_count": 20,
     "metadata": {},
     "output_type": "execute_result"
    }
   ],
   "source": [
    "np.median(retr_durs)"
   ]
  },
  {
   "cell_type": "code",
   "execution_count": null,
   "metadata": {},
   "outputs": [],
   "source": []
  }
 ],
 "metadata": {
  "kernelspec": {
   "display_name": "Python 3",
   "language": "python",
   "name": "python3"
  },
  "language_info": {
   "codemirror_mode": {
    "name": "ipython",
    "version": 3
   },
   "file_extension": ".py",
   "mimetype": "text/x-python",
   "name": "python",
   "nbconvert_exporter": "python",
   "pygments_lexer": "ipython3",
   "version": "3.7.3"
  }
 },
 "nbformat": 4,
 "nbformat_minor": 4
}
